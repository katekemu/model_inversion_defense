{
 "cells": [
  {
   "cell_type": "code",
   "execution_count": 1,
   "metadata": {},
   "outputs": [],
   "source": [
    "from __future__ import print_function\n",
    "import argparse\n",
    "import torch\n",
    "import torch.nn as nn\n",
    "import torch.optim as optim\n",
    "from torchvision import transforms\n",
    "import os, shutil\n",
    "# from data import FaceScrub, CelebA\n",
    "from model import Classifier, Inversion\n",
    "import torch.nn.functional as F\n",
    "import torchvision.utils as vutils\n",
    "import numpy as np\n",
    "import pandas as pd\n",
    "import copy\n",
    "import time\n",
    "import seaborn as sns\n"
   ]
  },
  {
   "cell_type": "code",
   "execution_count": 2,
   "metadata": {},
   "outputs": [],
   "source": [
    "import matplotlib.pyplot as plt\n",
    "from torch.utils.data import Dataset, DataLoader\n",
    "from torchvision import transforms, utils\n",
    "\n",
    "# Ignore warnings\n",
    "import warnings\n",
    "warnings.filterwarnings(\"ignore\")\n",
    "\n",
    "plt.ion()   # interactive mode\n",
    "\n",
    "from PIL import Image"
   ]
  },
  {
   "cell_type": "code",
   "execution_count": 3,
   "metadata": {},
   "outputs": [],
   "source": [
    "import torch\n",
    "from torchvision import transforms, datasets"
   ]
  },
  {
   "cell_type": "code",
   "execution_count": 4,
   "metadata": {},
   "outputs": [],
   "source": [
    "output_path = './results/deep'\n",
    "os.makedirs(output_path, exist_ok=True)"
   ]
  },
  {
   "cell_type": "code",
   "execution_count": 5,
   "metadata": {},
   "outputs": [],
   "source": [
    "# data_transform = transforms.Compose([\n",
    "#         transforms.Grayscale(),\n",
    "#         transforms.Resize(64),\n",
    "#         transforms.ToTensor()\n",
    "#     ])\n",
    "\n",
    "# test_dataset = datasets.ImageFolder(root='.\\\\data\\\\celeba_108',\n",
    "#                                            transform=data_transform)\n",
    "# test_loader = torch.utils.data.DataLoader(test_dataset,\n",
    "#                                              batch_size=4, shuffle=False,\n",
    "#                                              num_workers=0)"
   ]
  },
  {
   "cell_type": "code",
   "execution_count": 6,
   "metadata": {},
   "outputs": [],
   "source": [
    "# for i_batch, sample_batched in enumerate(test_loader):\n",
    "#     print(i_batch)\n",
    "#     print(sample_batched[0].shape,sample_batched[1].shape)\n",
    "    \n",
    "# #     batch_size = sample_batched[0].size(0)\n",
    "# #     im_size = sample_batched[0].size(2)\n",
    "# #     grid_border_size = 2\n",
    "\n",
    "#     grid = utils.make_grid(sample_batched[0])\n",
    "#     plt.imshow(grid.numpy().transpose((1, 2, 0)))\n",
    "#     break"
   ]
  },
  {
   "cell_type": "code",
   "execution_count": 7,
   "metadata": {},
   "outputs": [],
   "source": [
    "class CelebA(Dataset):\n",
    "    def __init__(self, root, transform=None, target_transform=None):\n",
    "        self.root = os.path.expanduser(root)\n",
    "        self.transform = transform\n",
    "        self.target_transform = target_transform\n",
    "\n",
    "        data = []\n",
    "        for i in range(1):\n",
    "            data.append(np.load(os.path.join(self.root, 'celebA_64_64.npy')))\n",
    "        data = np.concatenate(data, axis=0)\n",
    "\n",
    "#         v_min = data.min(axis=0)\n",
    "#         v_max = data.max(axis=0)\n",
    "#         data = (data - v_min) / (v_max - v_min)\n",
    "        labels = np.array([0] * len(data))\n",
    "\n",
    "        self.data = data\n",
    "        self.labels = labels\n",
    "\n",
    "    def __len__(self):\n",
    "        return len(self.data)\n",
    "\n",
    "    def __getitem__(self, index):\n",
    "        img, target = self.data[index], self.labels[index]\n",
    "        img = Image.fromarray(img)\n",
    "\n",
    "        if self.transform is not None:\n",
    "            img = self.transform(img)\n",
    "\n",
    "        if self.target_transform is not None:\n",
    "            target = self.target_transform(target)\n",
    "\n",
    "        return img, target\n"
   ]
  },
  {
   "cell_type": "code",
   "execution_count": 8,
   "metadata": {},
   "outputs": [
    {
     "data": {
      "text/plain": [
       "_StoreAction(option_strings=['--num_workers'], dest='num_workers', nargs=None, const=None, default=0, type=<class 'int'>, choices=None, help=None, metavar='')"
      ]
     },
     "execution_count": 8,
     "metadata": {},
     "output_type": "execute_result"
    }
   ],
   "source": [
    "# Training settings\n",
    "parser = argparse.ArgumentParser(description='Adversarial Model Inversion Demo')\n",
    "parser.add_argument('--batch-size', type=int, default=128, metavar='')\n",
    "parser.add_argument('--test-batch-size', type=int, default=128, metavar='')\n",
    "parser.add_argument('--epochs', type=int, default=1, metavar='')\n",
    "parser.add_argument('--lr', type=float, default=0.01, metavar='')\n",
    "parser.add_argument('--momentum', type=float, default=0.5, metavar='')\n",
    "parser.add_argument('--no-cuda', action='store_true', default=False)\n",
    "parser.add_argument('--seed', type=int, default=1, metavar='')\n",
    "parser.add_argument('--log-interval', type=int, default=10, metavar='')\n",
    "parser.add_argument('--nc', type=int, default=1)\n",
    "parser.add_argument('--ndf', type=int, default=128)\n",
    "parser.add_argument('--ngf', type=int, default=128)\n",
    "parser.add_argument('--nz', type=int, default=530)\n",
    "parser.add_argument('--truncation', type=int, default=530)\n",
    "parser.add_argument('--c', type=float, default=50.)\n",
    "parser.add_argument('--num_workers', type=int, default=0, metavar='')"
   ]
  },
  {
   "cell_type": "code",
   "execution_count": 9,
   "metadata": {},
   "outputs": [],
   "source": [
    "def train(classifier, inversion, log_interval, device, data_loader, optimizer, epoch):\n",
    "    classifier.eval()\n",
    "    inversion.train()\n",
    "\n",
    "    for batch_idx, (data, target) in enumerate(data_loader):\n",
    "        data, target = data.to(device), target.to(device)\n",
    "        optimizer.zero_grad()\n",
    "        with torch.no_grad():\n",
    "            prediction = classifier(data, release=True)\n",
    "        reconstruction = inversion(prediction)\n",
    "        loss = F.mse_loss(reconstruction, data)\n",
    "        loss.backward()\n",
    "        optimizer.step()\n",
    "\n",
    "        if batch_idx % log_interval == 0:\n",
    "            print('Train Epoch: {} [{}/{}]\\tLoss: {:.6f}'.format( epoch, batch_idx * len(data),\n",
    "                                                                  len(data_loader.dataset), loss.item()))\n",
    "\n",
    "def test(classifier, inversion, device, data_loader, epoch, msg):\n",
    "    classifier.eval()\n",
    "    inversion.eval()\n",
    "    mse_loss = 0\n",
    "    plot = True\n",
    "    with torch.no_grad():\n",
    "        for data, target in data_loader:\n",
    "            data, target = data.to(device), target.to(device)\n",
    "            prediction = classifier(data, release=True)\n",
    "            reconstruction = inversion(prediction)\n",
    "            mse_loss += F.mse_loss(reconstruction, data, reduction='sum').item()\n",
    "\n",
    "            if plot:\n",
    "                truth = data[0:32]\n",
    "                inverse = reconstruction[0:32]\n",
    "                out = torch.cat((inverse, truth))\n",
    "                for i in range(4):\n",
    "                    out[i * 16:i * 16 + 8] = inverse[i * 8:i * 8 + 8]\n",
    "                    out[i * 16 + 8:i * 16 + 16] = truth[i * 8:i * 8 + 8]\n",
    "                vutils.save_image(out, '{}/recon_{}_{}.png'.format(output_path, msg.replace(\" \", \"\"), epoch), normalize=False)\n",
    "                plot = False\n",
    "\n",
    "    mse_loss /= len(data_loader.dataset) * 64 * 64\n",
    "    print('\\nTest inversion model on {} set: Average MSE loss: {:.6f}\\n'.format(msg, mse_loss))\n",
    "    return mse_loss"
   ]
  },
  {
   "cell_type": "code",
   "execution_count": 10,
   "metadata": {},
   "outputs": [
    {
     "name": "stdout",
     "output_type": "stream",
     "text": [
      "================================\n",
      "Namespace(batch_size=128, c=50.0, epochs=1, log_interval=10, lr=0.01, momentum=0.5, nc=1, ndf=128, ngf=128, no_cuda=False, num_workers=0, nz=530, seed=1, test_batch_size=128, truncation=530)\n",
      "================================\n",
      "=> loaded classifier checkpoint './results/deep/classifier.pth' (epoch 99, acc 0.8579)\n",
      "=> loaded classifier checkpoint './results/deep/inversion.pth' (epoch 76, best_recon_loss 0.0091)\n"
     ]
    }
   ],
   "source": [
    "args = parser.parse_args(['--num_workers', '0'])\n",
    "print(\"================================\")\n",
    "print(args)\n",
    "print(\"================================\")\n",
    "\n",
    "#os.makedirs('out', exist_ok=True)\n",
    "\n",
    "use_cuda = not args.no_cuda and torch.cuda.is_available()\n",
    "device = torch.device(\"cuda\" if use_cuda else \"cpu\")\n",
    "kwargs = {'num_workers': args.num_workers, 'pin_memory': True} if use_cuda else {}\n",
    "\n",
    "torch.manual_seed(args.seed)\n",
    "\n",
    "# transform = transforms.Compose([transforms.ToTensor()])\n",
    "# train_set = CelebA('./data/celebA', transform=transform)\n",
    "# Inversion attack on TRAIN data of facescrub classifier\n",
    "# test1_set = FaceScrub('./data/facescrub', transform=transform, train=True)\n",
    "# Inversion attack on TEST data of facescrub classifier\n",
    "# test2_set = FaceScrub('./data/facescrub', transform=transform, train=False)\n",
    "\n",
    "facescrub_transform = transforms.Compose([\n",
    "        transforms.Grayscale(),\n",
    "        transforms.Resize(64),\n",
    "        transforms.ToTensor()\n",
    "    ])\n",
    "celeba_transform = transforms.Compose([\n",
    "        transforms.Grayscale(),\n",
    "        transforms.Resize(64),\n",
    "        transforms.ToTensor()\n",
    "    ])\n",
    "\n",
    "train_set = datasets.ImageFolder(root='./data/celeba_108',\n",
    "                                           transform=celeba_transform)\n",
    "# CelebA('.\\\\data\\\\celeba_64', transform=celeba_transform)\n",
    "test1_set = datasets.ImageFolder(root='./data/150x150/train',\n",
    "                                           transform=facescrub_transform)\n",
    "test2_set = datasets.ImageFolder(root='./data/150x150/validate',\n",
    "                                           transform=facescrub_transform)\n",
    "\n",
    "train_loader = torch.utils.data.DataLoader(train_set, batch_size=args.batch_size, shuffle=True, **kwargs)\n",
    "test1_loader = torch.utils.data.DataLoader(test1_set, batch_size=args.test_batch_size, shuffle=False, **kwargs)\n",
    "test2_loader = torch.utils.data.DataLoader(test2_set, batch_size=args.test_batch_size, shuffle=False, **kwargs)\n",
    "\n",
    "classifier = nn.DataParallel(Classifier(nc=args.nc, ndf=args.ndf, nz=args.nz)).to(device)\n",
    "inversion = nn.DataParallel(Inversion(nc=args.nc, ngf=args.ngf, nz=args.nz, truncation=args.truncation, c=args.c)).to(device)\n",
    "optimizer = optim.Adam(inversion.parameters(), lr=0.0002, betas=(0.5, 0.999), amsgrad=True)\n",
    "\n",
    "# Load classifier\n",
    "path = f'{output_path}/classifier.pth'\n",
    "try:\n",
    "    checkpoint = torch.load(path)\n",
    "    classifier.load_state_dict(checkpoint['model'])\n",
    "    epoch = checkpoint['epoch']\n",
    "    best_cl_acc = checkpoint['best_cl_acc']\n",
    "    print(\"=> loaded classifier checkpoint '{}' (epoch {}, acc {:.4f})\".format(path, epoch, best_cl_acc))\n",
    "except:\n",
    "    print(\"=> load classifier checkpoint '{}' failed\".format(path))\n",
    "    \n",
    "path = f'{output_path}/inversion.pth'\n",
    "try:\n",
    "    checkpoint = torch.load(path)\n",
    "    inversion.load_state_dict(checkpoint['model'])\n",
    "    epoch = checkpoint['epoch']\n",
    "    best_recon_loss = checkpoint['best_recon_loss']\n",
    "    print(\"=> loaded classifier checkpoint '{}' (epoch {}, best_recon_loss {:.4f})\".format(path, epoch, best_recon_loss))\n",
    "except:\n",
    "    print(\"=> load classifier checkpoint '{}' failed\".format(path))"
   ]
  },
  {
   "cell_type": "code",
   "execution_count": 11,
   "metadata": {},
   "outputs": [
    {
     "data": {
      "text/plain": [
       "DataParallel(\n",
       "  (module): Inversion(\n",
       "    (decoder): Sequential(\n",
       "      (0): ConvTranspose2d(530, 1024, kernel_size=(4, 4), stride=(1, 1))\n",
       "      (1): BatchNorm2d(1024, eps=1e-05, momentum=0.1, affine=True, track_running_stats=True)\n",
       "      (2): Tanh()\n",
       "      (3): ConvTranspose2d(1024, 512, kernel_size=(4, 4), stride=(2, 2), padding=(1, 1))\n",
       "      (4): BatchNorm2d(512, eps=1e-05, momentum=0.1, affine=True, track_running_stats=True)\n",
       "      (5): Tanh()\n",
       "      (6): ConvTranspose2d(512, 256, kernel_size=(4, 4), stride=(2, 2), padding=(1, 1))\n",
       "      (7): BatchNorm2d(256, eps=1e-05, momentum=0.1, affine=True, track_running_stats=True)\n",
       "      (8): Tanh()\n",
       "      (9): ConvTranspose2d(256, 128, kernel_size=(4, 4), stride=(2, 2), padding=(1, 1))\n",
       "      (10): BatchNorm2d(128, eps=1e-05, momentum=0.1, affine=True, track_running_stats=True)\n",
       "      (11): Tanh()\n",
       "      (12): ConvTranspose2d(128, 1, kernel_size=(4, 4), stride=(2, 2), padding=(1, 1))\n",
       "      (13): Sigmoid()\n",
       "    )\n",
       "  )\n",
       ")"
      ]
     },
     "execution_count": 11,
     "metadata": {},
     "output_type": "execute_result"
    }
   ],
   "source": [
    "inversion"
   ]
  },
  {
   "cell_type": "code",
   "execution_count": 12,
   "metadata": {},
   "outputs": [
    {
     "name": "stdout",
     "output_type": "stream",
     "text": [
      "526\n"
     ]
    }
   ],
   "source": [
    "# test1_set\n",
    "pcc_indices = []\n",
    "current_label = -1\n",
    "for i, target in enumerate(test2_set.targets):\n",
    "    if target > current_label:\n",
    "        current_label = target\n",
    "        pcc_indices.append(i)\n",
    "\n",
    "pcc_dataset = torch.utils.data.Subset(test2_set, pcc_indices)\n",
    "pcc_loader = torch.utils.data.DataLoader(pcc_dataset, batch_size=args.batch_size)\n",
    "print(len(pcc_dataset))"
   ]
  },
  {
   "cell_type": "markdown",
   "metadata": {},
   "source": [
    "## Add bit error and collect metrics"
   ]
  },
  {
   "cell_type": "code",
   "execution_count": 13,
   "metadata": {},
   "outputs": [],
   "source": [
    "output_path = './results/deep'\n",
    "os.makedirs(output_path, exist_ok=True)\n",
    "baseacc_file = 'baseacc.csv'\n",
    "basepcc_file = 'basepcc.csv'\n",
    "biterror2acc_file = 'biterror2acc.csv'\n",
    "biterror2pcc_file = 'biterror2pcc.csv'\n",
    "\n",
    "test_n = 1\n",
    "baseacc = pd.DataFrame(columns=['acc'])\n",
    "basepcc = pd.DataFrame(columns=['idx','target','pcc'])\n",
    "biterror2acc = pd.DataFrame(columns=['test','biterror1','biterror2','acc'])\n",
    "biterror2pcc = pd.DataFrame(columns=['test','biterror1','biterror2','idx','target','pcc'])"
   ]
  },
  {
   "cell_type": "code",
   "execution_count": 14,
   "metadata": {},
   "outputs": [],
   "source": [
    "def classifier_test(classifier, device, data_loader):\n",
    "    classifier.eval()\n",
    "    test_loss = 0\n",
    "    correct = 0\n",
    "    with torch.no_grad():\n",
    "        for data, target in data_loader:\n",
    "            data, target = data.to(device), target.to(device)\n",
    "            output = classifier(data)\n",
    "            test_loss += F.nll_loss(output, target, reduction='sum').item()\n",
    "            pred = output.max(1, keepdim=True)[1]\n",
    "            correct += pred.eq(target.view_as(pred)).sum().item()\n",
    "\n",
    "    test_loss /= len(data_loader.dataset)\n",
    "    print('\\nTest classifier: Average loss: {:.6f}, Accuracy: {}/{} ({:.4f}%)\\n'.format(\n",
    "        test_loss, correct, len(data_loader.dataset), 100. * correct / len(data_loader.dataset)))\n",
    "    return correct / len(data_loader.dataset)\n",
    "\n",
    "\n",
    "def calculate_pcc(classifier, inversion, device, data_loader, basepcc):\n",
    "    classifier.eval()\n",
    "    inversion.eval()\n",
    "    mse_loss = 0\n",
    "    plot = True\n",
    "    with torch.no_grad():\n",
    "        for i, (data, target) in enumerate(data_loader):\n",
    "            data = data.to(device)\n",
    "            prediction = classifier(data, release=True)\n",
    "            reconstruction = inversion(prediction)\n",
    "            # mse_loss += F.mse_loss(reconstruction, data, reduction='sum').item()\n",
    "            \n",
    "            vdata = data - torch.mean(data)\n",
    "            vreconstruction = reconstruction - torch.mean(reconstruction)\n",
    "            pcc = torch.sum(vdata*vreconstruction)/torch.sqrt(torch.sum(vdata**2))/torch.sqrt(torch.sum(vreconstruction**2))\n",
    "            \n",
    "            basepcc = basepcc.append({'idx': i, 'target': target, 'pcc': pcc.item()}, ignore_index=True)\n",
    "            \n",
    "    # mse_loss /= len(data_loader.dataset) * 64 * 64\n",
    "    # print('\\nTest inversion model on {} set: Average MSE loss: {:.6f}\\n'.format(msg, mse_loss))\n",
    "    return basepcc\n",
    "\n",
    "\n",
    "if os.path.exists(f'{output_path}/{baseacc_file}'):\n",
    "    baseacc = pd.read_csv(f'{output_path}/{baseacc_file}')\n",
    "else:\n",
    "    tmpacc = classifier_test(classifier, device, test2_loader) # IMPORTANT: send dataloader (not dataset)\n",
    "    baseacc = baseacc.append({'acc': tmpacc}, ignore_index=True)\n",
    "    baseacc.to_csv(f'{output_path}/{baseacc_file}', index=False)\n",
    "    \n",
    "if os.path.exists(f'{output_path}/{basepcc_file}'):\n",
    "    basepcc = pd.read_csv(f'{output_path}/{basepcc_file}')\n",
    "else:\n",
    "    basepcc = calculate_pcc(classifier, inversion, device, pcc_dataset, basepcc) # IMPORTANT: send dataset instead of dataloader\n",
    "    basepcc.to_csv(f'{output_path}/{basepcc_file}', index=False)"
   ]
  },
  {
   "cell_type": "code",
   "execution_count": 15,
   "metadata": {},
   "outputs": [
    {
     "data": {
      "text/plain": [
       "DataParallel(\n",
       "  (module): Classifier(\n",
       "    (encoder): Sequential(\n",
       "      (0): Conv2d(1, 128, kernel_size=(3, 3), stride=(1, 1), padding=(1, 1))\n",
       "      (1): BatchNorm2d(128, eps=1e-05, momentum=0.1, affine=True, track_running_stats=True)\n",
       "      (2): MaxPool2d(kernel_size=2, stride=2, padding=0, dilation=1, ceil_mode=False)\n",
       "      (3): ReLU(inplace=True)\n",
       "      (4): Conv2d(128, 256, kernel_size=(3, 3), stride=(1, 1), padding=(1, 1))\n",
       "      (5): BatchNorm2d(256, eps=1e-05, momentum=0.1, affine=True, track_running_stats=True)\n",
       "      (6): MaxPool2d(kernel_size=2, stride=2, padding=0, dilation=1, ceil_mode=False)\n",
       "      (7): ReLU(inplace=True)\n",
       "      (8): Conv2d(256, 512, kernel_size=(3, 3), stride=(1, 1), padding=(1, 1))\n",
       "      (9): BatchNorm2d(512, eps=1e-05, momentum=0.1, affine=True, track_running_stats=True)\n",
       "      (10): MaxPool2d(kernel_size=2, stride=2, padding=0, dilation=1, ceil_mode=False)\n",
       "      (11): ReLU(inplace=True)\n",
       "      (12): Conv2d(512, 1024, kernel_size=(3, 3), stride=(1, 1), padding=(1, 1))\n",
       "      (13): BatchNorm2d(1024, eps=1e-05, momentum=0.1, affine=True, track_running_stats=True)\n",
       "      (14): MaxPool2d(kernel_size=2, stride=2, padding=0, dilation=1, ceil_mode=False)\n",
       "      (15): ReLU(inplace=True)\n",
       "    )\n",
       "    (fc): Sequential(\n",
       "      (0): Linear(in_features=16384, out_features=2650, bias=True)\n",
       "      (1): Dropout(p=0.5, inplace=False)\n",
       "      (2): Linear(in_features=2650, out_features=530, bias=True)\n",
       "    )\n",
       "  )\n",
       ")"
      ]
     },
     "execution_count": 15,
     "metadata": {},
     "output_type": "execute_result"
    }
   ],
   "source": [
    "classifier"
   ]
  },
  {
   "cell_type": "code",
   "execution_count": 16,
   "metadata": {},
   "outputs": [],
   "source": [
    "conv1w = copy.deepcopy(classifier.module.encoder[0].weight.data)\n",
    "conv1b = copy.deepcopy(classifier.module.encoder[0].bias.data[:])\n",
    "conv2w = copy.deepcopy(classifier.module.encoder[4].weight.data)\n",
    "conv2b = copy.deepcopy(classifier.module.encoder[4].bias.data[:])\n",
    "conv3w = copy.deepcopy(classifier.module.encoder[8].weight.data)\n",
    "conv3b = copy.deepcopy(classifier.module.encoder[8].bias.data[:])\n",
    "conv4w = copy.deepcopy(classifier.module.encoder[12].weight.data)\n",
    "conv4b = copy.deepcopy(classifier.module.encoder[12].bias.data[:])"
   ]
  },
  {
   "cell_type": "code",
   "execution_count": 17,
   "metadata": {},
   "outputs": [],
   "source": [
    "ww1 = copy.deepcopy(classifier.module.fc[0].weight.data)\n",
    "bb1 = copy.deepcopy(classifier.module.fc[0].bias.data[:])\n",
    "ww2 = copy.deepcopy(classifier.module.fc[2].weight.data)\n",
    "bb2 = copy.deepcopy(classifier.module.fc[2].bias.data[:])"
   ]
  },
  {
   "cell_type": "code",
   "execution_count": 18,
   "metadata": {
    "tags": []
   },
   "outputs": [],
   "source": [
    "def float2bin_gpu(f, fixed_exp, nbits=8):\n",
    "    s = torch.sign(f)\n",
    "    f = f * s\n",
    "    s = (s * (-1) + 1.) * 0.5\n",
    "    s= s.unsqueeze(-1)\n",
    "    f = f/(2**fixed_exp)\n",
    "    m = integer2bit(f - f % 1,num_bits = nbits-1)\n",
    "    dtype = f.type()\n",
    "    out = torch.cat([s, m], dim=-1).type(dtype)\n",
    "    return out\n",
    "\n",
    "def integer2bit(integer, num_bits=7):\n",
    "    dtype = integer.type()\n",
    "    exponent_bits = -torch.arange(-(num_bits - 1), 1).type(dtype)\n",
    "    exponent_bits = exponent_bits.repeat(integer.shape + (1,))\n",
    "    out = integer.unsqueeze(-1) / 2 ** exponent_bits\n",
    "    return (out - (out % 1)) % 2\n",
    "\n",
    "def bin2float_gpu(b, fixed_exp, nbits=8):\n",
    "    dtype = torch.float32\n",
    "    s = torch.index_select(b, -1, torch.arange(0, 1).to(device))\n",
    "    m = torch.index_select(b, -1, torch.arange(1,nbits).to(device))\n",
    "    out = ((-1) ** s).squeeze(-1).type(dtype)\n",
    "    exponents = -torch.arange(-(nbits - 2.), 1.).to(device)\n",
    "    exponents = exponents.repeat(b.shape[:-1] + (1,))\n",
    "    e_decimal = torch.sum(m * 2 ** (exponents), dim=-1)\n",
    "    out *= e_decimal * 2 ** fixed_exp\n",
    "    return out\n",
    "\n",
    "def bin_add_bit_error(b, bit_error_percent = 0):\n",
    "    cond = torch.rand(b.shape).to(device) > bit_error_percent\n",
    "    a = 1 - b\n",
    "    out = cond * b + torch.logical_not(cond) * a\n",
    "    return out\n",
    "\n",
    "# evauluation: make sure the conversion functions work correctly\n",
    "nbits = 12\n",
    "f = ww1\n",
    "weight_max = torch.max(f)\n",
    "fixed_exp = torch.ceil(torch.log2(weight_max/(2**(nbits-1)-1))) + 1\n",
    "# rec = bin2float_gpu(float2bin_gpu(f, fixed_exp, nbits),fixed_exp, nbits)\n",
    "# if not torch.all((rec - f) <= 1 * 2**fixed_exp):\n",
    "#     print(i, 'binary float conversion failed')\n",
    "# if not torch.all(rec - f >= -1 * 2**fixed_exp):\n",
    "#     print(i, 'binary float conversion failed')"
   ]
  },
  {
   "cell_type": "code",
   "execution_count": 19,
   "metadata": {},
   "outputs": [
    {
     "name": "stdout",
     "output_type": "stream",
     "text": [
      "[] 0\n"
     ]
    }
   ],
   "source": [
    "# set bit error list\n",
    "# bit_error_percent_list = np.logspace(-4,-10,7,base=2)\n",
    "# bit_error_percent_list = sorted(np.append(bit_error_percent_list, [np.logspace(-5,-7,3,base=2) * 4 / 3, np.logspace(-5,-7,3,base=2) * 5 / 3]))\n",
    "# bit_error_percent_list = np.append(bit_error_percent_list,0.07)\n",
    "bit_error_percent_list = []\n",
    "bit_error_n = len(bit_error_percent_list)\n",
    "print(bit_error_percent_list, bit_error_n)"
   ]
  },
  {
   "cell_type": "code",
   "execution_count": 20,
   "metadata": {},
   "outputs": [],
   "source": [
    "if os.path.exists(f'{output_path}/{biterror2acc_file}'):\n",
    "    biterror2acc = pd.read_csv(f'{output_path}/{biterror2acc_file}')\n",
    "if os.path.exists(f'{output_path}/{biterror2pcc_file}'):\n",
    "    biterror2pcc = pd.read_csv(f'{output_path}/{biterror2pcc_file}')\n",
    "    \n",
    "\n",
    "for ntest in range(5,10):\n",
    "    for num1, biterror1 in enumerate(bit_error_percent_list):\n",
    "        # for num2, biterror2 in enumerate(bit_error_percent_list):\n",
    "        num2, biterror2 = num1, biterror1\n",
    "        start_time = time.time() \n",
    "\n",
    "        # introducing errors\n",
    "        for i in range(ww1.size()[0]):\n",
    "            f = ww1[i]\n",
    "            f_modify = bin2float_gpu(bin_add_bit_error(float2bin_gpu(f, fixed_exp, nbits), biterror1), fixed_exp, nbits)\n",
    "            classifier.module.fc[0].weight.data[i] = f_modify\n",
    "\n",
    "        for i in range(bb1.size()[0]):\n",
    "            f = bb1[i]\n",
    "            f_modify = bin2float_gpu(bin_add_bit_error(float2bin_gpu(f, fixed_exp, nbits), biterror1), fixed_exp, nbits)\n",
    "            classifier.module.fc[0].bias.data[i] = f_modify\n",
    "\n",
    "        for i in range(ww2.size()[0]):\n",
    "            f = ww2[i]\n",
    "            f_modify = bin2float_gpu(bin_add_bit_error(float2bin_gpu(f, fixed_exp, nbits), biterror2), fixed_exp, nbits)\n",
    "            classifier.module.fc[2].weight.data[i] = f_modify\n",
    "\n",
    "        for i in range(bb2.size()[0]):\n",
    "            f = bb2[i]\n",
    "            f_modify = bin2float_gpu(bin_add_bit_error(float2bin_gpu(f, fixed_exp, nbits), biterror2), fixed_exp, nbits)\n",
    "            classifier.module.fc[2].bias.data[i] = f_modify\n",
    "\n",
    "        # get accuracy for modified network\n",
    "        tmpacc = classifier_test(classifier, device, test2_loader)\n",
    "        biterror2acc = biterror2acc.append({'test': ntest, 'biterror1': biterror1, 'biterror2': biterror2, 'acc': tmpacc}, ignore_index=True)\n",
    "\n",
    "        # get pcc similarity for modified network\n",
    "        classifier.eval()\n",
    "        inversion.eval()\n",
    "        with torch.no_grad():\n",
    "            for i, (data, target) in enumerate(pcc_dataset):\n",
    "                data = data.to(device)\n",
    "                prediction = classifier(data, release=True)\n",
    "                reconstruction = inversion(prediction)\n",
    "\n",
    "                vdata = data - torch.mean(data)\n",
    "                vreconstruction = reconstruction - torch.mean(reconstruction)\n",
    "                pcc = torch.sum(vdata*vreconstruction)/torch.sqrt(torch.sum(vdata**2))/torch.sqrt(torch.sum(vreconstruction**2))\n",
    "\n",
    "                biterror2pcc = biterror2pcc.append({'test': ntest,'biterror1':biterror1,'biterror2':biterror2,'idx': i, 'target': target, 'pcc': pcc.item()}, ignore_index=True)\n",
    "\n",
    "        end_time = time.time()\n",
    "        print(\"time:\", end_time-start_time)\n",
    "\n",
    "        biterror2acc.to_csv(f'{output_path}/{biterror2acc_file}', index=False)\n",
    "        biterror2pcc.to_csv(f'{output_path}/{biterror2pcc_file}', index=False)"
   ]
  },
  {
   "cell_type": "code",
   "execution_count": 21,
   "metadata": {},
   "outputs": [
    {
     "data": {
      "text/plain": [
       "0.8852220505192167"
      ]
     },
     "execution_count": 21,
     "metadata": {},
     "output_type": "execute_result"
    }
   ],
   "source": [
    "basepcc['pcc'].mean()"
   ]
  },
  {
   "cell_type": "code",
   "execution_count": 22,
   "metadata": {},
   "outputs": [
    {
     "data": {
      "text/plain": [
       "biterror1\n",
       "0.000977    0.876092\n",
       "0.001953    0.866436\n",
       "0.003906    0.848531\n",
       "0.007812    0.804593\n",
       "0.010417    0.778143\n",
       "0.013021    0.734442\n",
       "0.015625    0.700617\n",
       "0.020833    0.624077\n",
       "0.026042    0.549211\n",
       "0.031250    0.467411\n",
       "0.041667    0.395315\n",
       "0.052083    0.349003\n",
       "0.062500    0.307954\n",
       "0.070000    0.305876\n",
       "Name: pcc, dtype: float64"
      ]
     },
     "execution_count": 22,
     "metadata": {},
     "output_type": "execute_result"
    }
   ],
   "source": [
    "biterror2pcc[biterror2pcc['biterror1'] == biterror2pcc['biterror2']].groupby(['biterror1'])['pcc'].mean()\n",
    "# biterror2pcc"
   ]
  },
  {
   "cell_type": "code",
   "execution_count": 23,
   "metadata": {},
   "outputs": [
    {
     "data": {
      "text/plain": [
       "biterror1\n",
       "0.000977    0.854948\n",
       "0.001953    0.852249\n",
       "0.003906    0.845283\n",
       "0.007812    0.833333\n",
       "0.010417    0.827105\n",
       "0.013021    0.817232\n",
       "0.015625    0.810980\n",
       "0.020833    0.799193\n",
       "0.026042    0.783599\n",
       "0.031250    0.776655\n",
       "0.041667    0.753610\n",
       "0.052083    0.737878\n",
       "0.062500    0.723691\n",
       "0.070000    0.718616\n",
       "Name: acc, dtype: float64"
      ]
     },
     "execution_count": 23,
     "metadata": {},
     "output_type": "execute_result"
    }
   ],
   "source": [
    "biterror2acc[biterror2acc['biterror1'] == biterror2acc['biterror2']].groupby(['biterror1'])['acc'].mean()\n",
    "# biterror2acc"
   ]
  },
  {
   "cell_type": "markdown",
   "metadata": {},
   "source": [
    "## Add Gaussian noise"
   ]
  },
  {
   "cell_type": "code",
   "execution_count": 24,
   "metadata": {},
   "outputs": [
    {
     "name": "stdout",
     "output_type": "stream",
     "text": [
      "[] 0\n"
     ]
    }
   ],
   "source": [
    "# gaussian_level_list = [0.003, 0.006, 0.009, 0.012]\n",
    "# for i in range(13,26,1):\n",
    "#     gaussian_level_list.append(0.001*i) #[0.001, 0.005, 0.007, 0.009, 0.011, 0.013, 0.015, 0.018, 0.021, 0.036] #np.logspace(-3,-1,3,base=10)\n",
    "gaussian_level_list = []\n",
    "print(gaussian_level_list,len(gaussian_level_list))"
   ]
  },
  {
   "cell_type": "code",
   "execution_count": 25,
   "metadata": {},
   "outputs": [],
   "source": [
    "gaussian2acc_file = 'gaussian2acc.csv'\n",
    "gaussian2pcc_file = 'gaussian2pcc.csv'\n",
    "\n",
    "gaussian2acc = pd.DataFrame(columns=['test','gaussian_level','acc'])\n",
    "gaussian2pcc = pd.DataFrame(columns=['test','gaussian_level','idx','target','pcc'])\n",
    "\n",
    "\n",
    "if os.path.exists(f'{output_path}/{gaussian2acc_file}'):\n",
    "    gaussian2acc = pd.read_csv(f'{output_path}/{gaussian2acc_file}')\n",
    "if os.path.exists(f'{output_path}/{gaussian2pcc_file}'):\n",
    "    gaussian2pcc = pd.read_csv(f'{output_path}/{gaussian2pcc_file}')\n",
    "    \n",
    "\n",
    "for gaussian_level in gaussian_level_list:\n",
    "    accuracy_avg, testacc_avg, similarity1_avg, similarity2_avg = 0,0,0,0\n",
    "    for ntest in range(5,10):\n",
    "        start_time = time.time() \n",
    "\n",
    "        # introducing errors\n",
    "        f = ww1\n",
    "        noise = torch.randn(f.size()).to(device)*gaussian_level\n",
    "        f_modify = f + noise\n",
    "        classifier.module.fc[0].weight.data = f_modify\n",
    "\n",
    "        f = bb1\n",
    "        noise = torch.randn(f.size()).to(device)*gaussian_level\n",
    "        f_modify = f + noise\n",
    "        classifier.module.fc[0].bias.data = f_modify\n",
    "\n",
    "        f = ww2\n",
    "        noise = torch.randn(f.size()).to(device)*gaussian_level\n",
    "        f_modify = f + noise\n",
    "        classifier.module.fc[2].weight.data = f_modify\n",
    "\n",
    "        f = bb2\n",
    "        noise = torch.randn(f.size()).to(device)*gaussian_level\n",
    "        f_modify = f + noise\n",
    "        classifier.module.fc[2].bias.data = f_modify\n",
    "\n",
    "\n",
    "        # get accuracy for modified network\n",
    "        tmpacc = classifier_test(classifier, device, test2_loader)\n",
    "        gaussian2acc = gaussian2acc.append({'test': ntest, 'gaussian_level': gaussian_level, 'acc': tmpacc}, ignore_index=True)\n",
    "\n",
    "        # get pcc similarity for modified network\n",
    "        classifier.eval()\n",
    "        inversion.eval()\n",
    "        with torch.no_grad():\n",
    "            for i, (data, target) in enumerate(pcc_dataset):\n",
    "                data = data.to(device)\n",
    "                prediction = classifier(data, release=True)\n",
    "                reconstruction = inversion(prediction)\n",
    "\n",
    "                vdata = data - torch.mean(data)\n",
    "                vreconstruction = reconstruction - torch.mean(reconstruction)\n",
    "                pcc = torch.sum(vdata*vreconstruction)/torch.sqrt(torch.sum(vdata**2))/torch.sqrt(torch.sum(vreconstruction**2))\n",
    "\n",
    "                gaussian2pcc = gaussian2pcc.append({'test': ntest, 'gaussian_level': gaussian_level, 'idx': i, 'target': target, 'pcc': pcc.item()}, ignore_index=True)\n",
    "\n",
    "        end_time = time.time()\n",
    "        print(\"time:\", end_time-start_time)\n",
    "\n",
    "        gaussian2acc.to_csv(f'{output_path}/{gaussian2acc_file}', index=False)\n",
    "        gaussian2pcc.to_csv(f'{output_path}/{gaussian2pcc_file}', index=False)\n"
   ]
  },
  {
   "cell_type": "code",
   "execution_count": 26,
   "metadata": {},
   "outputs": [
    {
     "data": {
      "text/plain": [
       "gaussian_level\n",
       "0.003    0.881280\n",
       "0.006    0.868052\n",
       "0.009    0.845857\n",
       "0.012    0.815387\n",
       "0.013    0.806484\n",
       "0.014    0.794574\n",
       "0.015    0.776005\n",
       "0.016    0.757833\n",
       "0.017    0.741796\n",
       "0.018    0.726517\n",
       "0.019    0.718219\n",
       "0.020    0.701948\n",
       "0.021    0.663901\n",
       "0.022    0.650282\n",
       "0.023    0.625505\n",
       "0.024    0.605450\n",
       "0.025    0.595343\n",
       "Name: pcc, dtype: float64"
      ]
     },
     "execution_count": 26,
     "metadata": {},
     "output_type": "execute_result"
    }
   ],
   "source": [
    "gaussian2pcc.groupby(['gaussian_level'])['pcc'].mean()"
   ]
  },
  {
   "cell_type": "code",
   "execution_count": 27,
   "metadata": {},
   "outputs": [
    {
     "data": {
      "text/plain": [
       "gaussian_level\n",
       "0.003    0.856448\n",
       "0.006    0.852526\n",
       "0.009    0.845490\n",
       "0.012    0.834325\n",
       "0.013    0.829873\n",
       "0.014    0.823875\n",
       "0.015    0.819885\n",
       "0.016    0.812595\n",
       "0.017    0.805052\n",
       "0.018    0.797855\n",
       "0.019    0.786551\n",
       "0.020    0.777970\n",
       "0.021    0.769319\n",
       "0.022    0.752042\n",
       "0.023    0.740992\n",
       "0.024    0.728028\n",
       "0.025    0.710496\n",
       "Name: acc, dtype: float64"
      ]
     },
     "execution_count": 27,
     "metadata": {},
     "output_type": "execute_result"
    }
   ],
   "source": [
    "gaussian2acc.groupby(['gaussian_level'])['acc'].mean()"
   ]
  },
  {
   "cell_type": "markdown",
   "metadata": {},
   "source": [
    "## Add Laplacian Noise"
   ]
  },
  {
   "cell_type": "code",
   "execution_count": 28,
   "metadata": {},
   "outputs": [
    {
     "name": "stdout",
     "output_type": "stream",
     "text": [
      "[] 0\n"
     ]
    }
   ],
   "source": [
    "laplacian_level_list = []#[i*0.001 for i in range(1,18,1)] #[0.001, 0.005, 0.007, 0.008, 0.009, 0.010, 0.011, 0.016, 0.020, 0.028] #np.logspace(-3,-1,3,base=10)\n",
    "print(laplacian_level_list,len(laplacian_level_list))"
   ]
  },
  {
   "cell_type": "code",
   "execution_count": 29,
   "metadata": {},
   "outputs": [],
   "source": [
    "laplacian2acc_file = 'laplacian2acc.csv'\n",
    "laplacian2pcc_file = 'laplacian2pcc.csv'\n",
    "\n",
    "laplacian2acc = pd.DataFrame(columns=['test','laplacian_level','acc'])\n",
    "laplacian2pcc = pd.DataFrame(columns=['test','laplacian_level','idx','target','pcc'])\n",
    "\n",
    "if os.path.exists(f'{output_path}/{laplacian2acc_file}'):\n",
    "    laplacian2acc = pd.read_csv(f'{output_path}/{laplacian2acc_file}')\n",
    "if os.path.exists(f'{output_path}/{laplacian2pcc_file}'):\n",
    "    laplacian2pcc = pd.read_csv(f'{output_path}/{laplacian2pcc_file}')\n",
    "    \n",
    "\n",
    "for laplacian_level in laplacian_level_list:\n",
    "    accuracy_avg, testacc_avg, similarity1_avg, similarity2_avg = 0,0,0,0\n",
    "    for ntest in range(5,10):\n",
    "        start_time = time.time() \n",
    "\n",
    "        # introducing errors\n",
    "        f = ww1\n",
    "        noise = torch.Tensor(np.random.laplace(loc=0.0, scale=1.0, size=f.size())).to(device)*laplacian_level\n",
    "        f_modify = f + noise\n",
    "        classifier.module.fc[0].weight.data = f_modify\n",
    "\n",
    "        f = bb1\n",
    "        noise = torch.Tensor(np.random.laplace(loc=0.0, scale=1.0, size=f.size())).to(device)*laplacian_level\n",
    "        f_modify = f + noise\n",
    "        classifier.module.fc[0].bias.data = f_modify\n",
    "\n",
    "        f = ww2\n",
    "        noise = torch.Tensor(np.random.laplace(loc=0.0, scale=1.0, size=f.size())).to(device)*laplacian_level\n",
    "        f_modify = f + noise\n",
    "        classifier.module.fc[2].weight.data = f_modify\n",
    "\n",
    "        f = bb2\n",
    "        noise = torch.Tensor(np.random.laplace(loc=0.0, scale=1.0, size=f.size())).to(device)*laplacian_level\n",
    "        f_modify = f + noise\n",
    "        classifier.module.fc[2].bias.data = f_modify\n",
    "\n",
    "\n",
    "        # get accuracy for modified network\n",
    "        tmpacc = classifier_test(classifier, device, test2_loader)\n",
    "        laplacian2acc = laplacian2acc.append({'test': ntest, 'laplacian_level': laplacian_level, 'acc': tmpacc}, ignore_index=True)\n",
    "\n",
    "        # get pcc similarity for modified network\n",
    "        classifier.eval()\n",
    "        inversion.eval()\n",
    "        with torch.no_grad():\n",
    "            for i, (data, target) in enumerate(pcc_dataset):\n",
    "                data = data.to(device)\n",
    "                prediction = classifier(data, release=True)\n",
    "                reconstruction = inversion(prediction)\n",
    "\n",
    "                vdata = data - torch.mean(data)\n",
    "                vreconstruction = reconstruction - torch.mean(reconstruction)\n",
    "                pcc = torch.sum(vdata*vreconstruction)/torch.sqrt(torch.sum(vdata**2))/torch.sqrt(torch.sum(vreconstruction**2))\n",
    "\n",
    "                laplacian2pcc = laplacian2pcc.append({'test': ntest, 'laplacian_level': laplacian_level, 'idx': i, 'target': target, 'pcc': pcc.item()}, ignore_index=True)\n",
    "\n",
    "        end_time = time.time()\n",
    "        print(\"time:\", end_time-start_time)\n",
    "\n",
    "        laplacian2acc.to_csv(f'{output_path}/{laplacian2acc_file}', index=False)\n",
    "        laplacian2pcc.to_csv(f'{output_path}/{laplacian2pcc_file}', index=False)"
   ]
  },
  {
   "cell_type": "code",
   "execution_count": 30,
   "metadata": {},
   "outputs": [
    {
     "data": {
      "text/plain": [
       "laplacian_level\n",
       "0.001    0.884498\n",
       "0.002    0.881490\n",
       "0.003    0.877142\n",
       "0.004    0.870928\n",
       "0.005    0.860422\n",
       "0.006    0.851616\n",
       "0.007    0.840774\n",
       "0.008    0.824300\n",
       "0.009    0.806748\n",
       "0.010    0.786132\n",
       "0.011    0.768381\n",
       "0.012    0.735470\n",
       "0.013    0.716430\n",
       "0.014    0.703481\n",
       "0.015    0.669238\n",
       "0.016    0.643024\n",
       "0.017    0.619009\n",
       "Name: pcc, dtype: float64"
      ]
     },
     "execution_count": 30,
     "metadata": {},
     "output_type": "execute_result"
    }
   ],
   "source": [
    "laplacian2pcc.groupby(['laplacian_level'])['pcc'].mean()"
   ]
  },
  {
   "cell_type": "code",
   "execution_count": 31,
   "metadata": {},
   "outputs": [
    {
     "data": {
      "text/plain": [
       "laplacian_level\n",
       "0.001    0.858847\n",
       "0.002    0.856770\n",
       "0.003    0.855317\n",
       "0.004    0.852918\n",
       "0.005    0.849066\n",
       "0.006    0.845928\n",
       "0.007    0.842238\n",
       "0.008    0.837739\n",
       "0.009    0.830035\n",
       "0.010    0.825952\n",
       "0.011    0.816817\n",
       "0.012    0.805905\n",
       "0.013    0.793449\n",
       "0.014    0.779008\n",
       "0.015    0.764798\n",
       "0.016    0.743230\n",
       "0.017    0.724268\n",
       "Name: acc, dtype: float64"
      ]
     },
     "execution_count": 31,
     "metadata": {},
     "output_type": "execute_result"
    }
   ],
   "source": [
    "laplacian2acc.groupby(['laplacian_level'])['acc'].mean()"
   ]
  },
  {
   "cell_type": "code",
   "execution_count": 32,
   "metadata": {},
   "outputs": [],
   "source": [
    "basepcc = basepcc.rename(columns={'pcc':'pccbase'})\n",
    "biterror2pcc = pd.merge(biterror2pcc,basepcc,on=['idx','target'])\n",
    "biterror2pcc['pcc'] = biterror2pcc['pcc'] / biterror2pcc['pccbase']\n",
    "gaussian2pcc = pd.merge(gaussian2pcc,basepcc,on=['idx','target'])\n",
    "gaussian2pcc['pcc'] = gaussian2pcc['pcc'] / gaussian2pcc['pccbase']\n",
    "laplacian2pcc = pd.merge(laplacian2pcc,basepcc,on=['idx','target'])\n",
    "laplacian2pcc['pcc'] = laplacian2pcc['pcc'] / laplacian2pcc['pccbase']"
   ]
  },
  {
   "cell_type": "markdown",
   "metadata": {
    "tags": []
   },
   "source": [
    "## Plot accuracy vs. simialrity"
   ]
  },
  {
   "cell_type": "code",
   "execution_count": 33,
   "metadata": {},
   "outputs": [
    {
     "data": {
      "image/png": "[encoded data removed]",
      "text/plain": [
       "<Figure size 720x72 with 1 Axes>"
      ]
     },
     "metadata": {
      "needs_background": "light"
     },
     "output_type": "display_data"
    },
    {
     "data": {
      "image/png": "[encoded data removed]",
      "text/plain": [
       "<Figure size 144x72 with 1 Axes>"
      ]
     },
     "metadata": {
      "needs_background": "light"
     },
     "output_type": "display_data"
    }
   ],
   "source": [
    "# 'Accent', 'Accent_r', 'Blues', 'Blues_r', 'BrBG', 'BrBG_r', 'BuGn', 'BuGn_r', 'BuPu', 'BuPu_r', 'CMRmap', 'CMRmap_r', \n",
    "# 'Dark2', 'Dark2_r', 'GnBu', 'GnBu_r', 'Greens', 'Greens_r', 'Greys', 'Greys_r', 'OrRd', 'OrRd_r', 'Oranges', 'Oranges_r',\n",
    "# 'PRGn', 'PRGn_r', 'Paired', 'Paired_r', 'Pastel1', 'Pastel1_r', 'Pastel2', 'Pastel2_r', 'PiYG', 'PiYG_r', 'PuBu', 'PuBuGn', \n",
    "# 'PuBuGn_r', 'PuBu_r', 'PuOr', 'PuOr_r', 'PuRd', 'PuRd_r', 'Purples', 'Purples_r', 'RdBu', 'RdBu_r', 'RdGy', 'RdGy_r', 'RdPu', \n",
    "# 'RdPu_r', 'RdYlBu', 'RdYlBu_r', 'RdYlGn', 'RdYlGn_r', 'Reds', 'Reds_r', 'Set1', 'Set1_r', 'Set2', 'Set2_r', 'Set3', 'Set3_r', \n",
    "# 'Spectral', 'Spectral_r', 'Wistia', 'Wistia_r', 'YlGn', 'YlGnBu', 'YlGnBu_r', 'YlGn_r', 'YlOrBr', 'YlOrBr_r', 'YlOrRd', \n",
    "# 'YlOrRd_r', 'afmhot', 'afmhot_r', 'autumn', 'autumn_r', 'binary', 'binary_r', 'bone', 'bone_r', 'brg', 'brg_r', 'bwr', \n",
    "# 'bwr_r', 'cividis', 'cividis_r', 'cool', 'cool_r', 'coolwarm', 'coolwarm_r', 'copper', 'copper_r', 'crest', 'crest_r', \n",
    "# 'cubehelix', 'cubehelix_r', 'flag', 'flag_r', 'flare', 'flare_r', 'gist_earth', 'gist_earth_r', 'gist_gray', 'gist_gray_r',\n",
    "# 'gist_heat', 'gist_heat_r', 'gist_ncar', 'gist_ncar_r', 'gist_rainbow', 'gist_rainbow_r', 'gist_stern', 'gist_stern_r', \n",
    "# 'gist_yarg', 'gist_yarg_r', 'gnuplot', 'gnuplot2', 'gnuplot2_r', 'gnuplot_r', 'gray', 'gray_r', 'hot', 'hot_r', 'hsv', 'hsv_r', \n",
    "# 'icefire', 'icefire_r', 'inferno', 'inferno_r', 'jet', 'jet_r', 'magma', 'magma_r', 'mako', 'mako_r', 'nipy_spectral', 'nipy_spectral_r', \n",
    "# 'ocean', 'ocean_r', 'pink', 'pink_r', 'plasma', 'plasma_r', 'prism', 'prism_r', 'rainbow', 'rainbow_r', 'rocket', 'rocket_r', 'seismic',\n",
    "# 'seismic_r', 'spring', 'spring_r', 'summer', 'summer_r', 'tab10', 'tab10_r', 'tab20', 'tab20_r', 'tab20b', 'tab20b_r', 'tab20c', 'tab20c_r', \n",
    "# 'terrain', 'terrain_r', 'turbo', 'turbo_r', 'twilight', 'twilight_r', 'twilight_shifted', 'twilight_shifted_r', 'viridis', 'viridis_r', 'vlag', 'vlag_r', 'winter', 'winter_r'\n",
    "palette = sns.color_palette()\n",
    "palette2 = sns.color_palette(\"Greens\",4)\n",
    "sns.palplot(palette)\n",
    "sns.palplot(palette[-2:-1]+palette2[-2:-1])"
   ]
  },
  {
   "cell_type": "markdown",
   "metadata": {
    "tags": []
   },
   "source": [
    "### Group by Noise Level"
   ]
  },
  {
   "cell_type": "code",
   "execution_count": 34,
   "metadata": {},
   "outputs": [
    {
     "name": "stdout",
     "output_type": "stream",
     "text": [
      "-0.24400962433647946\n",
      "0.0028470776238113927\n",
      "-0.38860433527351385\n",
      "0.0028470776238113927\n",
      "-0.5469957468465584\n",
      "0.0028470776238113927\n"
     ]
    },
    {
     "data": {
      "text/html": [
       "<div>\n",
       "<style scoped>\n",
       "    .dataframe tbody tr th:only-of-type {\n",
       "        vertical-align: middle;\n",
       "    }\n",
       "\n",
       "    .dataframe tbody tr th {\n",
       "        vertical-align: top;\n",
       "    }\n",
       "\n",
       "    .dataframe thead th {\n",
       "        text-align: right;\n",
       "    }\n",
       "</style>\n",
       "<table border=\"1\" class=\"dataframe\">\n",
       "  <thead>\n",
       "    <tr style=\"text-align: right;\">\n",
       "      <th></th>\n",
       "      <th>pcc</th>\n",
       "      <th>acc</th>\n",
       "      <th>noise</th>\n",
       "    </tr>\n",
       "  </thead>\n",
       "  <tbody>\n",
       "    <tr>\n",
       "      <th>0</th>\n",
       "      <td>0.986107</td>\n",
       "      <td>0.854948</td>\n",
       "      <td>biterror</td>\n",
       "    </tr>\n",
       "    <tr>\n",
       "      <th>1</th>\n",
       "      <td>0.989664</td>\n",
       "      <td>0.854948</td>\n",
       "      <td>biterror</td>\n",
       "    </tr>\n",
       "    <tr>\n",
       "      <th>2</th>\n",
       "      <td>0.991939</td>\n",
       "      <td>0.854948</td>\n",
       "      <td>biterror</td>\n",
       "    </tr>\n",
       "    <tr>\n",
       "      <th>3</th>\n",
       "      <td>1.004423</td>\n",
       "      <td>0.854948</td>\n",
       "      <td>biterror</td>\n",
       "    </tr>\n",
       "    <tr>\n",
       "      <th>4</th>\n",
       "      <td>0.991401</td>\n",
       "      <td>0.854948</td>\n",
       "      <td>biterror</td>\n",
       "    </tr>\n",
       "    <tr>\n",
       "      <th>...</th>\n",
       "      <td>...</td>\n",
       "      <td>...</td>\n",
       "      <td>...</td>\n",
       "    </tr>\n",
       "    <tr>\n",
       "      <th>252475</th>\n",
       "      <td>0.755125</td>\n",
       "      <td>0.724268</td>\n",
       "      <td>laplacian</td>\n",
       "    </tr>\n",
       "    <tr>\n",
       "      <th>252476</th>\n",
       "      <td>0.724763</td>\n",
       "      <td>0.724268</td>\n",
       "      <td>laplacian</td>\n",
       "    </tr>\n",
       "    <tr>\n",
       "      <th>252477</th>\n",
       "      <td>0.623717</td>\n",
       "      <td>0.724268</td>\n",
       "      <td>laplacian</td>\n",
       "    </tr>\n",
       "    <tr>\n",
       "      <th>252478</th>\n",
       "      <td>0.885035</td>\n",
       "      <td>0.724268</td>\n",
       "      <td>laplacian</td>\n",
       "    </tr>\n",
       "    <tr>\n",
       "      <th>252479</th>\n",
       "      <td>0.871983</td>\n",
       "      <td>0.724268</td>\n",
       "      <td>laplacian</td>\n",
       "    </tr>\n",
       "  </tbody>\n",
       "</table>\n",
       "<p>252480 rows × 3 columns</p>\n",
       "</div>"
      ],
      "text/plain": [
       "             pcc       acc      noise\n",
       "0       0.986107  0.854948   biterror\n",
       "1       0.989664  0.854948   biterror\n",
       "2       0.991939  0.854948   biterror\n",
       "3       1.004423  0.854948   biterror\n",
       "4       0.991401  0.854948   biterror\n",
       "...          ...       ...        ...\n",
       "252475  0.755125  0.724268  laplacian\n",
       "252476  0.724763  0.724268  laplacian\n",
       "252477  0.623717  0.724268  laplacian\n",
       "252478  0.885035  0.724268  laplacian\n",
       "252479  0.871983  0.724268  laplacian\n",
       "\n",
       "[252480 rows x 3 columns]"
      ]
     },
     "execution_count": 34,
     "metadata": {},
     "output_type": "execute_result"
    }
   ],
   "source": [
    "th = 0\n",
    "laplacian_pcc_acc = pd.merge(laplacian2pcc,laplacian2acc,on=['test','laplacian_level'])\n",
    "print(laplacian_pcc_acc['pcc'].min())\n",
    "laplacian_pcc_acc['pcc'] = laplacian_pcc_acc['pcc'].transform('abs')\n",
    "print(laplacian_pcc_acc['pcc'].min())\n",
    "laplacian_pcc_acc['acc'] = laplacian_pcc_acc['acc'].groupby([laplacian_pcc_acc['laplacian_level']]).transform('mean')\n",
    "laplacian_pcc_acc = laplacian_pcc_acc[laplacian_pcc_acc['acc']>th]\n",
    "\n",
    "gaussian_pcc_acc = pd.merge(gaussian2pcc,gaussian2acc,on=['test','gaussian_level'])\n",
    "print(gaussian_pcc_acc['pcc'].min())\n",
    "gaussian_pcc_acc['pcc'] = gaussian_pcc_acc['pcc'].transform('abs')\n",
    "print(laplacian_pcc_acc['pcc'].min())\n",
    "gaussian_pcc_acc['acc'] = gaussian_pcc_acc['acc'].groupby([gaussian_pcc_acc['gaussian_level']]).transform('mean')\n",
    "gaussian_pcc_acc = gaussian_pcc_acc[gaussian_pcc_acc['acc']>th]\n",
    "\n",
    "biterror_pcc_acc = pd.merge(biterror2pcc[biterror2pcc['biterror1'] == biterror2pcc['biterror2']],\n",
    "                            biterror2acc[biterror2acc['biterror1'] == biterror2acc['biterror2']],\n",
    "                            on=['test','biterror1','biterror2'])\n",
    "print(biterror_pcc_acc['pcc'].min())\n",
    "biterror_pcc_acc['pcc'] = biterror_pcc_acc['pcc'].transform('abs')\n",
    "print(laplacian_pcc_acc['pcc'].min())\n",
    "biterror_pcc_acc['acc'] = biterror_pcc_acc['acc'].groupby([biterror_pcc_acc['biterror1'],biterror_pcc_acc['biterror2']]).transform('mean')\n",
    "biterror_pcc_acc = biterror_pcc_acc[biterror_pcc_acc['acc']>th]\n",
    "\n",
    "df_final = pd.concat([biterror_pcc_acc[['pcc','acc']].assign(noise='biterror'),\n",
    "                      gaussian_pcc_acc[['pcc','acc']].assign(noise='gaussian'),\n",
    "                      laplacian_pcc_acc[['pcc','acc']].assign(noise='laplacian')]).reset_index(drop=True)\n",
    "df_final"
   ]
  },
  {
   "cell_type": "code",
   "execution_count": 35,
   "metadata": {},
   "outputs": [
    {
     "data": {
      "image/png": "[encoded data removed]",
      "text/plain": [
       "<Figure size 504x360 with 1 Axes>"
      ]
     },
     "metadata": {},
     "output_type": "display_data"
    }
   ],
   "source": [
    "sns.set_style(\"whitegrid\")\n",
    "plt.rcParams[\"font.family\"] = \"serif\"\n",
    "\n",
    "\n",
    "plt.figure(figsize=(7,5))\n",
    "ax = sns.lineplot(data=df_final, x=\"acc\", y=\"pcc\",hue=\"noise\", style=\"noise\",\n",
    "    markers=True,dashes=False, ci='sd', err_style='bars')"
   ]
  },
  {
   "cell_type": "markdown",
   "metadata": {
    "tags": []
   },
   "source": [
    "### Group by Accuracy"
   ]
  },
  {
   "cell_type": "code",
   "execution_count": 36,
   "metadata": {},
   "outputs": [
    {
     "name": "stdout",
     "output_type": "stream",
     "text": [
      "-0.24400962433647946\n",
      "0.0028470776238113927\n",
      "-0.38860433527351385\n",
      "0.0028470776238113927\n",
      "-0.5469957468465584\n",
      "0.0028470776238113927\n"
     ]
    },
    {
     "data": {
      "text/html": [
       "<div>\n",
       "<style scoped>\n",
       "    .dataframe tbody tr th:only-of-type {\n",
       "        vertical-align: middle;\n",
       "    }\n",
       "\n",
       "    .dataframe tbody tr th {\n",
       "        vertical-align: top;\n",
       "    }\n",
       "\n",
       "    .dataframe thead th {\n",
       "        text-align: right;\n",
       "    }\n",
       "</style>\n",
       "<table border=\"1\" class=\"dataframe\">\n",
       "  <thead>\n",
       "    <tr style=\"text-align: right;\">\n",
       "      <th></th>\n",
       "      <th>pcc</th>\n",
       "      <th>acc</th>\n",
       "      <th>Noise</th>\n",
       "    </tr>\n",
       "  </thead>\n",
       "  <tbody>\n",
       "    <tr>\n",
       "      <th>0</th>\n",
       "      <td>0.966012</td>\n",
       "      <td>84.5</td>\n",
       "      <td>Bit error</td>\n",
       "    </tr>\n",
       "    <tr>\n",
       "      <th>1</th>\n",
       "      <td>0.996862</td>\n",
       "      <td>84.5</td>\n",
       "      <td>Bit error</td>\n",
       "    </tr>\n",
       "    <tr>\n",
       "      <th>2</th>\n",
       "      <td>0.965615</td>\n",
       "      <td>84.5</td>\n",
       "      <td>Bit error</td>\n",
       "    </tr>\n",
       "    <tr>\n",
       "      <th>3</th>\n",
       "      <td>0.979517</td>\n",
       "      <td>84.5</td>\n",
       "      <td>Bit error</td>\n",
       "    </tr>\n",
       "    <tr>\n",
       "      <th>4</th>\n",
       "      <td>0.986839</td>\n",
       "      <td>84.5</td>\n",
       "      <td>Bit error</td>\n",
       "    </tr>\n",
       "    <tr>\n",
       "      <th>...</th>\n",
       "      <td>...</td>\n",
       "      <td>...</td>\n",
       "      <td>...</td>\n",
       "    </tr>\n",
       "    <tr>\n",
       "      <th>217759</th>\n",
       "      <td>0.755125</td>\n",
       "      <td>73.5</td>\n",
       "      <td>Laplacian</td>\n",
       "    </tr>\n",
       "    <tr>\n",
       "      <th>217760</th>\n",
       "      <td>0.724763</td>\n",
       "      <td>73.5</td>\n",
       "      <td>Laplacian</td>\n",
       "    </tr>\n",
       "    <tr>\n",
       "      <th>217761</th>\n",
       "      <td>0.623717</td>\n",
       "      <td>73.5</td>\n",
       "      <td>Laplacian</td>\n",
       "    </tr>\n",
       "    <tr>\n",
       "      <th>217762</th>\n",
       "      <td>0.885035</td>\n",
       "      <td>73.5</td>\n",
       "      <td>Laplacian</td>\n",
       "    </tr>\n",
       "    <tr>\n",
       "      <th>217763</th>\n",
       "      <td>0.871983</td>\n",
       "      <td>73.5</td>\n",
       "      <td>Laplacian</td>\n",
       "    </tr>\n",
       "  </tbody>\n",
       "</table>\n",
       "<p>217764 rows × 3 columns</p>\n",
       "</div>"
      ],
      "text/plain": [
       "             pcc   acc      Noise\n",
       "0       0.966012  84.5  Bit error\n",
       "1       0.996862  84.5  Bit error\n",
       "2       0.965615  84.5  Bit error\n",
       "3       0.979517  84.5  Bit error\n",
       "4       0.986839  84.5  Bit error\n",
       "...          ...   ...        ...\n",
       "217759  0.755125  73.5  Laplacian\n",
       "217760  0.724763  73.5  Laplacian\n",
       "217761  0.623717  73.5  Laplacian\n",
       "217762  0.885035  73.5  Laplacian\n",
       "217763  0.871983  73.5  Laplacian\n",
       "\n",
       "[217764 rows x 3 columns]"
      ]
     },
     "execution_count": 36,
     "metadata": {},
     "output_type": "execute_result"
    }
   ],
   "source": [
    "th = 0.70 * 100\n",
    "high_th = 0.855 * 100\n",
    "laplacian_pcc_acc = pd.merge(laplacian2pcc,laplacian2acc,on=['test','laplacian_level'])\n",
    "print(laplacian_pcc_acc['pcc'].min())\n",
    "laplacian_pcc_acc['pcc'] = laplacian_pcc_acc['pcc'].transform('abs')\n",
    "print(laplacian_pcc_acc['pcc'].min())\n",
    "laplacian_pcc_acc['acc'] = laplacian_pcc_acc['acc'].apply(lambda x: np.floor(x*100*2/3+0.5)*1.5)\n",
    "laplacian_pcc_acc = laplacian_pcc_acc[(laplacian_pcc_acc['acc']>th)&(laplacian_pcc_acc['acc']<high_th)]\n",
    "\n",
    "gaussian_pcc_acc = pd.merge(gaussian2pcc,gaussian2acc,on=['test','gaussian_level'])\n",
    "print(gaussian_pcc_acc['pcc'].min())\n",
    "gaussian_pcc_acc['pcc'] = gaussian_pcc_acc['pcc'].transform('abs')\n",
    "print(laplacian_pcc_acc['pcc'].min())\n",
    "gaussian_pcc_acc['acc'] = gaussian_pcc_acc['acc'].apply(lambda x: np.floor(x*100*2/3+5/6.0)*1.5-0.5)\n",
    "gaussian_pcc_acc = gaussian_pcc_acc[(gaussian_pcc_acc['acc']>th)&(gaussian_pcc_acc['acc']<high_th)]\n",
    "\n",
    "biterror_pcc_acc = pd.merge(biterror2pcc[biterror2pcc['biterror1'] == biterror2pcc['biterror2']],\n",
    "                            biterror2acc[biterror2acc['biterror1'] == biterror2acc['biterror2']],\n",
    "                            on=['test','biterror1','biterror2'])\n",
    "print(biterror_pcc_acc['pcc'].min())\n",
    "biterror_pcc_acc['pcc'] = biterror_pcc_acc['pcc'].transform('abs')\n",
    "print(laplacian_pcc_acc['pcc'].min())\n",
    "biterror_pcc_acc['acc'] = biterror_pcc_acc['acc'].apply(lambda x: np.floor(x*100*2/3+1/6.0)*1.5+0.5)\n",
    "biterror_pcc_acc = biterror_pcc_acc[(biterror_pcc_acc['acc']>th)&(biterror_pcc_acc['acc']<high_th)]\n",
    "\n",
    "df_final = pd.concat([biterror_pcc_acc[['pcc','acc']].assign(Noise='Bit error'),\n",
    "                      gaussian_pcc_acc[['pcc','acc']].assign(Noise='Gaussian'),\n",
    "                      laplacian_pcc_acc[['pcc','acc']].assign(Noise='Laplacian')]).reset_index(drop=True)\n",
    "df_final"
   ]
  },
  {
   "cell_type": "code",
   "execution_count": 37,
   "metadata": {},
   "outputs": [
    {
     "data": {
      "image/png": "[encoded data removed]",
      "text/plain": [
       "<Figure size 504x360 with 1 Axes>"
      ]
     },
     "metadata": {},
     "output_type": "display_data"
    }
   ],
   "source": [
    "import seaborn as sns\n",
    "sns.set_style(\"whitegrid\")\n",
    "plt.rcParams[\"font.family\"] = \"serif\"\n",
    "\n",
    "\n",
    "plt.figure(figsize=(7,5))\n",
    "ax = sns.lineplot(data=df_final, x=\"acc\", y=\"pcc\",hue=\"Noise\", style=\"Noise\",\n",
    "    markers=True,markersize=10,dashes=True, ci='sd', err_style='band',palette=sns.color_palette(\"rocket_r\", n_colors=3)) #palette=palette[2:3]+palette[:2]\n",
    "ax.set_xlabel(\"Accuracy (%)\",fontsize=16)\n",
    "ax.set_ylabel(\"PCC ratio\",fontsize=16)\n",
    "\n",
    "plt.legend(ncol=1, title='BER2',loc='center right', bbox_to_anchor=(1.3, 0.5)) # , bbox_to_anchor=(1.5, 0.5)\n",
    "\n",
    "plt.tight_layout()\n",
    "plt.savefig(f'{output_path}/pcc_acc_noise.pdf', format='pdf')\n"
   ]
  },
  {
   "cell_type": "code",
   "execution_count": 38,
   "metadata": {},
   "outputs": [
    {
     "name": "stdout",
     "output_type": "stream",
     "text": [
      "-0.24400962433647946\n",
      "0.0028470776238113927\n",
      "-0.38860433527351385\n",
      "0.0028470776238113927\n",
      "-0.5469957468465584\n",
      "0.0028470776238113927\n"
     ]
    },
    {
     "data": {
      "text/html": [
       "<div>\n",
       "<style scoped>\n",
       "    .dataframe tbody tr th:only-of-type {\n",
       "        vertical-align: middle;\n",
       "    }\n",
       "\n",
       "    .dataframe tbody tr th {\n",
       "        vertical-align: top;\n",
       "    }\n",
       "\n",
       "    .dataframe thead th {\n",
       "        text-align: right;\n",
       "    }\n",
       "</style>\n",
       "<table border=\"1\" class=\"dataframe\">\n",
       "  <thead>\n",
       "    <tr style=\"text-align: right;\">\n",
       "      <th></th>\n",
       "      <th>pcc</th>\n",
       "      <th>acc</th>\n",
       "      <th>noise</th>\n",
       "    </tr>\n",
       "  </thead>\n",
       "  <tbody>\n",
       "    <tr>\n",
       "      <th>0</th>\n",
       "      <td>0.986107</td>\n",
       "      <td>85.0</td>\n",
       "      <td>biterror</td>\n",
       "    </tr>\n",
       "    <tr>\n",
       "      <th>1</th>\n",
       "      <td>0.989664</td>\n",
       "      <td>85.0</td>\n",
       "      <td>biterror</td>\n",
       "    </tr>\n",
       "    <tr>\n",
       "      <th>2</th>\n",
       "      <td>0.991939</td>\n",
       "      <td>85.0</td>\n",
       "      <td>biterror</td>\n",
       "    </tr>\n",
       "    <tr>\n",
       "      <th>3</th>\n",
       "      <td>1.004423</td>\n",
       "      <td>85.0</td>\n",
       "      <td>biterror</td>\n",
       "    </tr>\n",
       "    <tr>\n",
       "      <th>4</th>\n",
       "      <td>0.991401</td>\n",
       "      <td>85.0</td>\n",
       "      <td>biterror</td>\n",
       "    </tr>\n",
       "    <tr>\n",
       "      <th>...</th>\n",
       "      <td>...</td>\n",
       "      <td>...</td>\n",
       "      <td>...</td>\n",
       "    </tr>\n",
       "    <tr>\n",
       "      <th>251423</th>\n",
       "      <td>0.755125</td>\n",
       "      <td>73.0</td>\n",
       "      <td>laplacian</td>\n",
       "    </tr>\n",
       "    <tr>\n",
       "      <th>251424</th>\n",
       "      <td>0.724763</td>\n",
       "      <td>73.0</td>\n",
       "      <td>laplacian</td>\n",
       "    </tr>\n",
       "    <tr>\n",
       "      <th>251425</th>\n",
       "      <td>0.623717</td>\n",
       "      <td>73.0</td>\n",
       "      <td>laplacian</td>\n",
       "    </tr>\n",
       "    <tr>\n",
       "      <th>251426</th>\n",
       "      <td>0.885035</td>\n",
       "      <td>73.0</td>\n",
       "      <td>laplacian</td>\n",
       "    </tr>\n",
       "    <tr>\n",
       "      <th>251427</th>\n",
       "      <td>0.871983</td>\n",
       "      <td>73.0</td>\n",
       "      <td>laplacian</td>\n",
       "    </tr>\n",
       "  </tbody>\n",
       "</table>\n",
       "<p>251428 rows × 3 columns</p>\n",
       "</div>"
      ],
      "text/plain": [
       "             pcc   acc      noise\n",
       "0       0.986107  85.0   biterror\n",
       "1       0.989664  85.0   biterror\n",
       "2       0.991939  85.0   biterror\n",
       "3       1.004423  85.0   biterror\n",
       "4       0.991401  85.0   biterror\n",
       "...          ...   ...        ...\n",
       "251423  0.755125  73.0  laplacian\n",
       "251424  0.724763  73.0  laplacian\n",
       "251425  0.623717  73.0  laplacian\n",
       "251426  0.885035  73.0  laplacian\n",
       "251427  0.871983  73.0  laplacian\n",
       "\n",
       "[251428 rows x 3 columns]"
      ]
     },
     "execution_count": 38,
     "metadata": {},
     "output_type": "execute_result"
    }
   ],
   "source": [
    "th = 0\n",
    "laplacian_pcc_acc = pd.merge(laplacian2pcc,laplacian2acc,on=['test','laplacian_level'])\n",
    "print(laplacian_pcc_acc['pcc'].min())\n",
    "laplacian_pcc_acc['pcc'] = laplacian_pcc_acc['pcc'].transform('abs')\n",
    "print(laplacian_pcc_acc['pcc'].min())\n",
    "laplacian_pcc_acc['acc'] = laplacian_pcc_acc['acc'].apply(lambda x: np.floor(x*100/2)*2+1)\n",
    "laplacian_pcc_acc = laplacian_pcc_acc[(laplacian_pcc_acc['acc']>th) & (laplacian_pcc_acc['acc']<86)]\n",
    "\n",
    "gaussian_pcc_acc = pd.merge(gaussian2pcc,gaussian2acc,on=['test','gaussian_level'])\n",
    "print(gaussian_pcc_acc['pcc'].min())\n",
    "gaussian_pcc_acc['pcc'] = gaussian_pcc_acc['pcc'].transform('abs')\n",
    "print(laplacian_pcc_acc['pcc'].min())\n",
    "gaussian_pcc_acc['acc'] = gaussian_pcc_acc['acc'].apply(lambda x: np.floor(x*100/2)*2+1)\n",
    "gaussian_pcc_acc = gaussian_pcc_acc[gaussian_pcc_acc['acc']>th]\n",
    "\n",
    "biterror_pcc_acc = pd.merge(biterror2pcc[biterror2pcc['biterror1'] == biterror2pcc['biterror2']],\n",
    "                            biterror2acc[biterror2acc['biterror1'] == biterror2acc['biterror2']],\n",
    "                            on=['test','biterror1','biterror2'])\n",
    "print(biterror_pcc_acc['pcc'].min())\n",
    "biterror_pcc_acc['pcc'] = biterror_pcc_acc['pcc'].transform('abs')\n",
    "print(laplacian_pcc_acc['pcc'].min())\n",
    "biterror_pcc_acc['acc'] = biterror_pcc_acc['acc'].apply(lambda x: np.floor(x*100/2)*2+1)\n",
    "biterror_pcc_acc = biterror_pcc_acc[biterror_pcc_acc['acc']>th]\n",
    "\n",
    "df_final = pd.concat([biterror_pcc_acc[['pcc','acc']].assign(noise='biterror'),\n",
    "                      gaussian_pcc_acc[['pcc','acc']].assign(noise='gaussian'),\n",
    "                      laplacian_pcc_acc[['pcc','acc']].assign(noise='laplacian')]).reset_index(drop=True)\n",
    "df_final"
   ]
  },
  {
   "cell_type": "code",
   "execution_count": 39,
   "metadata": {},
   "outputs": [
    {
     "data": {
      "image/png": "[encoded data removed]",
      "text/plain": [
       "<Figure size 504x360 with 1 Axes>"
      ]
     },
     "metadata": {},
     "output_type": "display_data"
    }
   ],
   "source": [
    "import seaborn as sns\n",
    "sns.set_style(\"whitegrid\")\n",
    "plt.rcParams[\"font.family\"] = \"serif\"\n",
    "\n",
    "\n",
    "plt.figure(figsize=(7,5))\n",
    "ax = sns.lineplot(data=df_final, x=\"acc\", y=\"pcc\",hue=\"noise\", style=\"noise\",\n",
    "    markers=True,dashes=False, ci='sd', err_style='bars',palette=palette[2:3]+palette[:2])\n",
    "\n",
    "\n",
    "# plt.figure(figsize=(7,5))\n",
    "# ax = sns.catplot(x=\"acc\", y=\"pcc\", hue=\"noise\", kind=\"box\", data=df_final,\n",
    "#                 height=5,aspect=7.0/5.0, legend=False,palette=palette[2:3]+palette[:2])"
   ]
  },
  {
   "cell_type": "markdown",
   "metadata": {
    "tags": []
   },
   "source": [
    "## Plot the inversion results"
   ]
  },
  {
   "cell_type": "code",
   "execution_count": 40,
   "metadata": {},
   "outputs": [],
   "source": [
    "laplacian_pcc_acc = pd.concat([laplacian2pcc.groupby(['laplacian_level'])['pcc'].mean(),laplacian2acc.groupby(['laplacian_level'])['acc'].mean()],axis=1)\n",
    "gaussian_pcc_acc = pd.concat([gaussian2pcc.groupby(['gaussian_level'])['pcc'].mean(),gaussian2acc.groupby(['gaussian_level'])['acc'].mean()],axis=1)\n",
    "biterror_pcc_acc = pd.concat([biterror2pcc.groupby(['biterror1'])['pcc'].mean(),biterror2acc.groupby(['biterror1'])['acc'].mean()],axis=1)"
   ]
  },
  {
   "cell_type": "code",
   "execution_count": 41,
   "metadata": {},
   "outputs": [],
   "source": [
    "# test2_set\n",
    "plot1_indices = []\n",
    "plot2_indices = []\n",
    "current_label = -1\n",
    "for i, target in enumerate(test1_set.targets):\n",
    "    if target > current_label:\n",
    "        current_label = target\n",
    "        if target < 50:\n",
    "            plot1_indices.append(i)\n",
    "        else:\n",
    "            plot2_indices.append(i)\n",
    "\n",
    "plot1_dataset = torch.utils.data.Subset(test1_set, plot1_indices)\n",
    "plot1_loader = torch.utils.data.DataLoader(plot1_dataset, batch_size=args.batch_size)\n",
    "\n",
    "plot2_dataset = torch.utils.data.Subset(test1_set, plot2_indices)\n",
    "plot2_loader = torch.utils.data.DataLoader(plot2_dataset, batch_size=args.batch_size)"
   ]
  },
  {
   "cell_type": "code",
   "execution_count": 42,
   "metadata": {},
   "outputs": [
    {
     "name": "stdout",
     "output_type": "stream",
     "text": [
      "pcc    0.828284\n",
      "acc    0.805905\n",
      "Name: 0.012, dtype: float64\n",
      "pcc    0.817898\n",
      "acc    0.797855\n",
      "Name: 0.018, dtype: float64\n",
      "pcc    0.703011\n",
      "acc    0.799193\n",
      "Name: 0.0208333333333333, dtype: float64\n"
     ]
    }
   ],
   "source": [
    "acc_pt = 0.80\n",
    "print(laplacian_pcc_acc.iloc[(laplacian_pcc_acc['acc']-acc_pt).abs().argsort().iloc[0]])\n",
    "laplacian_level = laplacian_pcc_acc.index.values[(laplacian_pcc_acc['acc']-acc_pt).abs().argsort().iloc[0]]\n",
    "print(gaussian_pcc_acc.iloc[(gaussian_pcc_acc['acc']-acc_pt).abs().argsort().iloc[0]])\n",
    "gaussian_level = gaussian_pcc_acc.index.values[(gaussian_pcc_acc['acc']-acc_pt).abs().argsort().iloc[0]]\n",
    "print(biterror_pcc_acc.iloc[(biterror_pcc_acc['acc']-acc_pt).abs().argsort().iloc[0]])\n",
    "biterror = biterror_pcc_acc.index.values[(biterror_pcc_acc['acc']-acc_pt).abs().argsort().iloc[0]]"
   ]
  },
  {
   "cell_type": "code",
   "execution_count": 43,
   "metadata": {},
   "outputs": [],
   "source": [
    "def test_plot(classifier, inversion, device, data_loader, epoch, msg, biterror, gaussian_level, laplacian_level):\n",
    "    classifier.eval()\n",
    "    inversion.eval()\n",
    "    plot = True\n",
    "    with torch.no_grad():\n",
    "        for data, target in data_loader:\n",
    "            data, target = data.to(device), target.to(device)\n",
    "            \n",
    "            # No defense\n",
    "            classifier.module.fc[0].weight.data = ww1\n",
    "            classifier.module.fc[0].bias.data[:] = bb1\n",
    "            classifier.module.fc[2].weight.data = ww2\n",
    "            classifier.module.fc[2].bias.data[:] = bb2\n",
    "            prediction = classifier(data, release=True)\n",
    "            rec_nodefense = inversion(prediction)\n",
    "            \n",
    "            # Laplacian\n",
    "            f = ww1\n",
    "            noise = torch.Tensor(np.random.laplace(loc=0.0, scale=1.0, size=f.size())).to(device)*laplacian_level\n",
    "            f_modify = f + noise\n",
    "            classifier.module.fc[0].weight.data = f_modify\n",
    "            f = bb1\n",
    "            noise = torch.Tensor(np.random.laplace(loc=0.0, scale=1.0, size=f.size())).to(device)*laplacian_level\n",
    "            f_modify = f + noise\n",
    "            classifier.module.fc[0].bias.data = f_modify\n",
    "            f = ww2\n",
    "            noise = torch.Tensor(np.random.laplace(loc=0.0, scale=1.0, size=f.size())).to(device)*laplacian_level\n",
    "            f_modify = f + noise\n",
    "            classifier.module.fc[2].weight.data = f_modify\n",
    "            f = bb2\n",
    "            noise = torch.Tensor(np.random.laplace(loc=0.0, scale=1.0, size=f.size())).to(device)*laplacian_level\n",
    "            f_modify = f + noise\n",
    "            classifier.module.fc[2].bias.data = f_modify\n",
    "            prediction = classifier(data, release=True)\n",
    "            rec_laplacian = inversion(prediction)\n",
    "            \n",
    "            # Gaussain\n",
    "            f = ww1\n",
    "            noise = torch.randn(f.size()).to(device)*gaussian_level\n",
    "            f_modify = f + noise\n",
    "            classifier.module.fc[0].weight.data = f_modify\n",
    "            f = bb1\n",
    "            noise = torch.randn(f.size()).to(device)*gaussian_level\n",
    "            f_modify = f + noise\n",
    "            classifier.module.fc[0].bias.data = f_modify\n",
    "            f = ww2\n",
    "            noise = torch.randn(f.size()).to(device)*gaussian_level\n",
    "            f_modify = f + noise\n",
    "            classifier.module.fc[2].weight.data = f_modify\n",
    "            f = bb2\n",
    "            noise = torch.randn(f.size()).to(device)*gaussian_level\n",
    "            f_modify = f + noise\n",
    "            classifier.module.fc[2].bias.data = f_modify\n",
    "            prediction = classifier(data, release=True)\n",
    "            rec_gaussian = inversion(prediction)\n",
    "            \n",
    "            # Bit error\n",
    "            for i in range(ww1.size()[0]):\n",
    "                f = ww1[i]\n",
    "                f_modify = bin2float_gpu(bin_add_bit_error(float2bin_gpu(f, fixed_exp, nbits), biterror), fixed_exp, nbits)\n",
    "                classifier.module.fc[0].weight.data[i] = f_modify\n",
    "            for i in range(bb1.size()[0]):\n",
    "                f = bb1[i]\n",
    "                f_modify = bin2float_gpu(bin_add_bit_error(float2bin_gpu(f, fixed_exp, nbits), biterror), fixed_exp, nbits)\n",
    "                classifier.module.fc[0].bias.data[i] = f_modify\n",
    "            for i in range(ww2.size()[0]):\n",
    "                f = ww2[i]\n",
    "                f_modify = bin2float_gpu(bin_add_bit_error(float2bin_gpu(f, fixed_exp, nbits), biterror), fixed_exp, nbits)\n",
    "                classifier.module.fc[2].weight.data[i] = f_modify\n",
    "            for i in range(bb2.size()[0]):\n",
    "                f = bb2[i]\n",
    "                f_modify = bin2float_gpu(bin_add_bit_error(float2bin_gpu(f, fixed_exp, nbits), biterror), fixed_exp, nbits)\n",
    "                classifier.module.fc[2].bias.data[i] = f_modify\n",
    "            prediction = classifier(data, release=True)\n",
    "            rec_biterror = inversion(prediction)\n",
    "            \n",
    "            if plot:\n",
    "                truth = data[0:8]\n",
    "                inv_n = rec_nodefense[0:8]\n",
    "                inv_l = rec_laplacian[0:8]\n",
    "                inv_g = rec_gaussian[0:8]\n",
    "                inv_b = rec_biterror[0:8]\n",
    "                out = torch.cat((truth, inv_n, inv_g, inv_l, inv_b))\n",
    "                # for i in range(1):\n",
    "                #     out[i * 16:i * 16 + 8] = inverse[i * 8:i * 8 + 8]\n",
    "                #     out[i * 16 + 8:i * 16 + 16] = truth[i * 8:i * 8 + 8]\n",
    "                vutils.save_image(out, '{}/recon_{}_{}.png'.format(output_path,msg.replace(\" \", \"\"), epoch), normalize=False)\n",
    "                plot = False\n",
    "            break\n",
    "    return \n",
    "\n",
    "test_plot(classifier, inversion, device, plot2_loader, epoch, 'comparison', biterror, gaussian_level, laplacian_level)\n"
   ]
  },
  {
   "cell_type": "code",
   "execution_count": 44,
   "metadata": {},
   "outputs": [],
   "source": [
    "classifier.module.fc[0].weight.data = copy.deepcopy(ww1)\n",
    "classifier.module.fc[0].bias.data[:] = copy.deepcopy(bb1)\n",
    "classifier.module.fc[2].weight.data = copy.deepcopy(ww2)\n",
    "classifier.module.fc[2].bias.data[:] = copy.deepcopy(bb2)\n",
    "# classifier_test(classifier, device, test2_loader)"
   ]
  },
  {
   "cell_type": "markdown",
   "metadata": {
    "tags": []
   },
   "source": [
    "## Explore Effect of Bit Error in Convolutional Layers"
   ]
  },
  {
   "cell_type": "code",
   "execution_count": 45,
   "metadata": {},
   "outputs": [],
   "source": [
    "conv_biterror2acc_file = 'conv_biterror2acc.csv'\n",
    "conv_biterror2pcc_file = 'conv_biterror2pcc.csv'\n",
    "\n",
    "test_n = 0\n",
    "conv_biterror2acc = pd.DataFrame(columns=['test','layer','biterror','acc'])\n",
    "conv_biterror2pcc = pd.DataFrame(columns=['test','layer','biterror','idx','target','pcc'])"
   ]
  },
  {
   "cell_type": "code",
   "execution_count": 46,
   "metadata": {},
   "outputs": [
    {
     "name": "stdout",
     "output_type": "stream",
     "text": [
      "[0.0625     0.03125    0.015625   0.0078125  0.00390625 0.00195312\n",
      " 0.00097656] 7\n"
     ]
    }
   ],
   "source": [
    "# set bit error list\n",
    "bit_error_percent_list = np.logspace(-4,-10,7,base=2)\n",
    "# bit_error_percent_list = np.logspace(-6,-7,1,base=2)\n",
    "# bit_error_percent_list = sorted(np.append(bit_error_percent_list, [np.logspace(-5,-7,3,base=2) * 4 / 3, np.logspace(-5,-7,3,base=2) * 5 / 3]))\n",
    "# bit_error_percent_list = np.append(bit_error_percent_list,0.07)\n",
    "bit_error_n = len(bit_error_percent_list)\n",
    "print(bit_error_percent_list, bit_error_n)"
   ]
  },
  {
   "cell_type": "code",
   "execution_count": 47,
   "metadata": {},
   "outputs": [],
   "source": [
    "if os.path.exists(f'{output_path}/{conv_biterror2acc_file}'):\n",
    "    conv_biterror2acc = pd.read_csv(f'{output_path}/{conv_biterror2acc_file}')\n",
    "if os.path.exists(f'{output_path}/{conv_biterror2pcc_file}'):\n",
    "    conv_biterror2pcc = pd.read_csv(f'{output_path}/{conv_biterror2pcc_file}')\n",
    "    \n",
    "\n",
    "for ntest in range(test_n):\n",
    "    for num, biterror in enumerate(bit_error_percent_list):\n",
    "        start_time = time.time() \n",
    "        for layer, (ww, bb) in enumerate([(conv1w,conv1b),(conv2w,conv2b),(conv3w,conv3b),(conv4w,conv4b)]): #\n",
    "            \n",
    "            ww, bb = copy.deepcopy(ww), copy.deepcopy(bb)\n",
    "            \n",
    "            for i in range(ww.size()[0]):\n",
    "                f = ww[i]\n",
    "                f_modify = bin2float_gpu(bin_add_bit_error(float2bin_gpu(f, fixed_exp, nbits), biterror), fixed_exp, nbits)\n",
    "                classifier.module.encoder[layer*4].weight.data[i] = f_modify\n",
    "\n",
    "            for i in range(bb.size()[0]):\n",
    "                f = bb[i]\n",
    "                f_modify = bin2float_gpu(bin_add_bit_error(float2bin_gpu(f, fixed_exp, nbits), biterror), fixed_exp, nbits)\n",
    "                classifier.module.encoder[layer*4].bias.data[i] = f_modify\n",
    "                \n",
    "            \n",
    "            # get accuracy for modified network\n",
    "            tmpacc = classifier_test(classifier, device, test2_loader)\n",
    "            conv_biterror2acc = conv_biterror2acc.append({'test': ntest, 'layer': layer, 'biterror': biterror, 'acc': tmpacc}, ignore_index=True)\n",
    "\n",
    "            # get pcc similarity for modified network\n",
    "            classifier.eval()\n",
    "            inversion.eval()\n",
    "            with torch.no_grad():\n",
    "                for i, (data, target) in enumerate(pcc_dataset):\n",
    "                    data = data.to(device)\n",
    "                    prediction = classifier(data, release=True)\n",
    "                    reconstruction = inversion(prediction)\n",
    "\n",
    "                    vdata = data - torch.mean(data)\n",
    "                    vreconstruction = reconstruction - torch.mean(reconstruction)\n",
    "                    pcc = torch.sum(vdata*vreconstruction)/torch.sqrt(torch.sum(vdata**2))/torch.sqrt(torch.sum(vreconstruction**2))\n",
    "\n",
    "                    conv_biterror2pcc = conv_biterror2pcc.append({'test': ntest,'layer': layer,'biterror':biterror,'idx': i, 'target': target, 'pcc': pcc.item()}, ignore_index=True)\n",
    "\n",
    "            end_time = time.time()\n",
    "            print(\"time:\", end_time-start_time)\n",
    "\n",
    "            conv_biterror2acc.to_csv(f'{output_path}/{conv_biterror2acc_file}', index=False)\n",
    "            conv_biterror2pcc.to_csv(f'{output_path}/{conv_biterror2pcc_file}', index=False)\n",
    "            \n",
    "            # Change modified parameters back\n",
    "            classifier.module.encoder[layer*4].weight.data[:] = ww\n",
    "            classifier.module.encoder[layer*4].bias.data[:] = bb\n",
    "        \n",
    "        for layer, (ww, bb) in enumerate([(ww1,bb1),(ww2,bb2)]): \n",
    "            ww, bb = copy.deepcopy(ww), copy.deepcopy(bb)\n",
    "            \n",
    "            for i in range(ww.size()[0]):\n",
    "                f = ww[i]\n",
    "                f_modify = bin2float_gpu(bin_add_bit_error(float2bin_gpu(f, fixed_exp, nbits), biterror), fixed_exp, nbits)\n",
    "                classifier.module.fc[layer*2].weight.data[i] = f_modify\n",
    "\n",
    "            for i in range(bb.size()[0]):\n",
    "                f = bb[i]\n",
    "                f_modify = bin2float_gpu(bin_add_bit_error(float2bin_gpu(f, fixed_exp, nbits), biterror), fixed_exp, nbits)\n",
    "                classifier.module.fc[layer*2].bias.data[i] = f_modify\n",
    "                \n",
    "            \n",
    "            # get accuracy for modified network\n",
    "            tmpacc = classifier_test(classifier, device, test2_loader)\n",
    "            conv_biterror2acc = conv_biterror2acc.append({'test': ntest, 'layer': layer+4,'biterror': biterror, 'acc': tmpacc}, ignore_index=True)\n",
    "\n",
    "            # get pcc similarity for modified network\n",
    "            classifier.eval()\n",
    "            inversion.eval()\n",
    "            with torch.no_grad():\n",
    "                for i, (data, target) in enumerate(pcc_dataset):\n",
    "                    data = data.to(device)\n",
    "                    prediction = classifier(data, release=True)\n",
    "                    reconstruction = inversion(prediction)\n",
    "\n",
    "                    vdata = data - torch.mean(data)\n",
    "                    vreconstruction = reconstruction - torch.mean(reconstruction)\n",
    "                    pcc = torch.sum(vdata*vreconstruction)/torch.sqrt(torch.sum(vdata**2))/torch.sqrt(torch.sum(vreconstruction**2))\n",
    "\n",
    "                    conv_biterror2pcc = conv_biterror2pcc.append({'test': ntest,'layer': layer+4,'biterror':biterror,'idx': i, 'target': target, 'pcc': pcc.item()}, ignore_index=True)\n",
    "\n",
    "            end_time = time.time()\n",
    "            print(\"time:\", end_time-start_time)\n",
    "\n",
    "            conv_biterror2acc.to_csv(f'{output_path}/{conv_biterror2acc_file}', index=False)\n",
    "            conv_biterror2pcc.to_csv(f'{output_path}/{conv_biterror2pcc_file}', index=False)\n",
    "            \n",
    "            # Change modified parameters back\n",
    "            classifier.module.fc[layer*2].weight.data[:] = ww\n",
    "            classifier.module.fc[layer*2].bias.data[:] = bb\n",
    "            \n",
    "# classifier_test(classifier, device, test2_loader)"
   ]
  },
  {
   "cell_type": "code",
   "execution_count": 48,
   "metadata": {},
   "outputs": [
    {
     "data": {
      "text/plain": [
       "layer  biterror\n",
       "0.0    0.000977    0.415416\n",
       "       0.001953    0.393281\n",
       "       0.003906    0.394809\n",
       "       0.007812    0.395329\n",
       "       0.015625    0.364677\n",
       "       0.031250    0.334959\n",
       "       0.062500    0.288993\n",
       "1.0    0.000977    0.885005\n",
       "       0.001953    0.883499\n",
       "       0.003906    0.881222\n",
       "       0.007812    0.878878\n",
       "       0.015625    0.875680\n",
       "       0.031250    0.849830\n",
       "       0.062500    0.810206\n",
       "2.0    0.000977    0.884721\n",
       "       0.001953    0.883502\n",
       "       0.003906    0.881081\n",
       "       0.007812    0.874610\n",
       "       0.015625    0.859207\n",
       "       0.031250    0.827255\n",
       "       0.062500    0.768131\n",
       "3.0    0.000977    0.884490\n",
       "       0.001953    0.883689\n",
       "       0.003906    0.882282\n",
       "       0.007812    0.878142\n",
       "       0.015625    0.872259\n",
       "       0.031250    0.860628\n",
       "       0.062500    0.831135\n",
       "4.0    0.000977    0.884073\n",
       "       0.001953    0.882768\n",
       "       0.003906    0.879861\n",
       "       0.007812    0.876251\n",
       "       0.015625    0.854701\n",
       "       0.031250    0.776372\n",
       "       0.062500    0.592679\n",
       "5.0    0.000977    0.877175\n",
       "       0.001953    0.868312\n",
       "       0.003906    0.855720\n",
       "       0.007812    0.829459\n",
       "       0.015625    0.784370\n",
       "       0.031250    0.712992\n",
       "       0.062500    0.590487\n",
       "Name: pcc, dtype: float64"
      ]
     },
     "execution_count": 48,
     "metadata": {},
     "output_type": "execute_result"
    }
   ],
   "source": [
    "conv_biterror2pcc.groupby(['layer','biterror'])['pcc'].mean()"
   ]
  },
  {
   "cell_type": "code",
   "execution_count": 49,
   "metadata": {},
   "outputs": [
    {
     "data": {
      "text/plain": [
       "layer  biterror\n",
       "0.0    0.000977    0.003645\n",
       "       0.001953    0.003783\n",
       "       0.003906    0.003691\n",
       "       0.007812    0.003599\n",
       "       0.015625    0.002584\n",
       "       0.031250    0.003276\n",
       "       0.062500    0.002307\n",
       "1.0    0.000977    0.855271\n",
       "       0.001953    0.854210\n",
       "       0.003906    0.849412\n",
       "       0.007812    0.841246\n",
       "       0.015625    0.830634\n",
       "       0.031250    0.769504\n",
       "       0.062500    0.574302\n",
       "2.0    0.000977    0.855825\n",
       "       0.001953    0.853103\n",
       "       0.003906    0.849550\n",
       "       0.007812    0.838524\n",
       "       0.015625    0.807935\n",
       "       0.031250    0.715386\n",
       "       0.062500    0.513956\n",
       "3.0    0.000977    0.857070\n",
       "       0.001953    0.856655\n",
       "       0.003906    0.854487\n",
       "       0.007812    0.849458\n",
       "       0.015625    0.838431\n",
       "       0.031250    0.824037\n",
       "       0.062500    0.795709\n",
       "4.0    0.000977    0.858178\n",
       "       0.001953    0.856517\n",
       "       0.003906    0.856424\n",
       "       0.007812    0.852318\n",
       "       0.015625    0.849227\n",
       "       0.031250    0.845490\n",
       "       0.062500    0.840231\n",
       "5.0    0.000977    0.854533\n",
       "       0.001953    0.852042\n",
       "       0.003906    0.848304\n",
       "       0.007812    0.838893\n",
       "       0.015625    0.828374\n",
       "       0.031250    0.804521\n",
       "       0.062500    0.782099\n",
       "Name: acc, dtype: float64"
      ]
     },
     "execution_count": 49,
     "metadata": {},
     "output_type": "execute_result"
    }
   ],
   "source": [
    "conv_biterror2acc.groupby(['layer','biterror'])['acc'].mean()"
   ]
  },
  {
   "cell_type": "code",
   "execution_count": 50,
   "metadata": {},
   "outputs": [],
   "source": [
    "df_conv = pd.concat([conv_biterror2pcc.groupby(['layer','biterror'])['pcc'].mean(), conv_biterror2acc.groupby(['layer','biterror'])['acc'].mean()], axis=1).reset_index()\n",
    "df_conv = df_conv[df_conv['layer']>0.1]"
   ]
  },
  {
   "cell_type": "code",
   "execution_count": 51,
   "metadata": {},
   "outputs": [
    {
     "data": {
      "image/png": "[encoded data removed]",
      "text/plain": [
       "<Figure size 576x288 with 1 Axes>"
      ]
     },
     "metadata": {},
     "output_type": "display_data"
    }
   ],
   "source": [
    "sns.set_style(\"whitegrid\")\n",
    "plt.rcParams[\"font.family\"] = \"serif\"\n",
    "\n",
    "\n",
    "plt.figure(figsize=(8,4))\n",
    "ax = sns.lineplot(data=df_conv, x=\"acc\", y=\"pcc\",hue=\"layer\", style=\"layer\",\n",
    "    markers=True,markersize=10, dashes=False, ci='sd', err_style='bars',legend=False)\n",
    "\n",
    "ax.set_xlabel(\"Accuracy (%)\",fontsize=16)\n",
    "ax.set_ylabel(\"PCC ratio\",fontsize=16)\n",
    "\n",
    "plt.tight_layout()\n",
    "plt.legend(title='Layers', loc='lower left', labels=['conv2', 'conv3', 'conv4', 'fc1', 'fc2'], prop={'size': 10})\n",
    "plt.savefig(f'{output_path}/pcc_acc_cnnlayer.pdf', format='pdf')"
   ]
  },
  {
   "cell_type": "code",
   "execution_count": 52,
   "metadata": {},
   "outputs": [],
   "source": [
    "biterror=0.0625"
   ]
  },
  {
   "cell_type": "code",
   "execution_count": 53,
   "metadata": {},
   "outputs": [],
   "source": [
    "def test_plot(classifier, inversion, device, data_loader, epoch, msg, biterror, gaussian_level, laplacian_level):\n",
    "    classifier.eval()\n",
    "    inversion.eval()\n",
    "    plot = True\n",
    "    with torch.no_grad():\n",
    "        for data, target in data_loader:\n",
    "            data, target = data.to(device), target.to(device)\n",
    "            \n",
    "            # No defense\n",
    "            classifier.module.fc[0].weight.data = ww1\n",
    "            classifier.module.fc[0].bias.data[:] = bb1\n",
    "            classifier.module.fc[2].weight.data = ww2\n",
    "            classifier.module.fc[2].bias.data[:] = bb2\n",
    "            prediction = classifier(data, release=True)\n",
    "            rec_nodefense = inversion(prediction)\n",
    "            \n",
    "            # Laplacian\n",
    "            f = ww1\n",
    "            noise = torch.Tensor(np.random.laplace(loc=0.0, scale=1.0, size=f.size())).to(device)*laplacian_level\n",
    "            f_modify = f + noise\n",
    "            classifier.module.fc[0].weight.data = f_modify\n",
    "            f = bb1\n",
    "            noise = torch.Tensor(np.random.laplace(loc=0.0, scale=1.0, size=f.size())).to(device)*laplacian_level\n",
    "            f_modify = f + noise\n",
    "            classifier.module.fc[0].bias.data = f_modify\n",
    "            f = ww2\n",
    "            noise = torch.Tensor(np.random.laplace(loc=0.0, scale=1.0, size=f.size())).to(device)*laplacian_level\n",
    "            f_modify = f + noise\n",
    "            classifier.module.fc[2].weight.data = f_modify\n",
    "            f = bb2\n",
    "            noise = torch.Tensor(np.random.laplace(loc=0.0, scale=1.0, size=f.size())).to(device)*laplacian_level\n",
    "            f_modify = f + noise\n",
    "            classifier.module.fc[2].bias.data = f_modify\n",
    "            prediction = classifier(data, release=True)\n",
    "            rec_laplacian = inversion(prediction)\n",
    "            \n",
    "            # Gaussain\n",
    "            f = ww1\n",
    "            noise = torch.randn(f.size()).to(device)*gaussian_level\n",
    "            f_modify = f + noise\n",
    "            classifier.module.fc[0].weight.data = f_modify\n",
    "            f = bb1\n",
    "            noise = torch.randn(f.size()).to(device)*gaussian_level\n",
    "            f_modify = f + noise\n",
    "            classifier.module.fc[0].bias.data = f_modify\n",
    "            f = ww2\n",
    "            noise = torch.randn(f.size()).to(device)*gaussian_level\n",
    "            f_modify = f + noise\n",
    "            classifier.module.fc[2].weight.data = f_modify\n",
    "            f = bb2\n",
    "            noise = torch.randn(f.size()).to(device)*gaussian_level\n",
    "            f_modify = f + noise\n",
    "            classifier.module.fc[2].bias.data = f_modify\n",
    "            prediction = classifier(data, release=True)\n",
    "            rec_gaussian = inversion(prediction)\n",
    "            \n",
    "            # Bit error\n",
    "            for i in range(ww1.size()[0]):\n",
    "                f = ww1[i]\n",
    "                f_modify = bin2float_gpu(bin_add_bit_error(float2bin_gpu(f, fixed_exp, nbits), biterror), fixed_exp, nbits)\n",
    "                classifier.module.fc[0].weight.data[i] = f_modify\n",
    "            for i in range(bb1.size()[0]):\n",
    "                f = bb1[i]\n",
    "                f_modify = bin2float_gpu(bin_add_bit_error(float2bin_gpu(f, fixed_exp, nbits), biterror), fixed_exp, nbits)\n",
    "                classifier.module.fc[0].bias.data[i] = f_modify\n",
    "            # for i in range(ww2.size()[0]):\n",
    "            #     f = ww2[i]\n",
    "            #     f_modify = bin2float_gpu(bin_add_bit_error(float2bin_gpu(f, fixed_exp, nbits), biterror), fixed_exp, nbits)\n",
    "            #     classifier.module.fc[2].weight.data[i] = f_modify\n",
    "            # for i in range(bb2.size()[0]):\n",
    "            #     f = bb2[i]\n",
    "            #     f_modify = bin2float_gpu(bin_add_bit_error(float2bin_gpu(f, fixed_exp, nbits), biterror), fixed_exp, nbits)\n",
    "            #     classifier.module.fc[2].bias.data[i] = f_modify\n",
    "            prediction = classifier(data, release=True)\n",
    "            rec_biterror = inversion(prediction)\n",
    "            \n",
    "            if plot:\n",
    "                truth = data[0:8]\n",
    "                inv_n = rec_nodefense[0:8]\n",
    "                inv_l = rec_laplacian[0:8]\n",
    "                inv_g = rec_gaussian[0:8]\n",
    "                inv_b = rec_biterror[0:8]\n",
    "                out = torch.cat((truth, inv_n, inv_g, inv_l, inv_b))\n",
    "                # for i in range(1):\n",
    "                #     out[i * 16:i * 16 + 8] = inverse[i * 8:i * 8 + 8]\n",
    "                #     out[i * 16 + 8:i * 16 + 16] = truth[i * 8:i * 8 + 8]\n",
    "                vutils.save_image(out, '{}/recon_{}_{}.png'.format(output_path,msg.replace(\" \", \"\"), epoch), normalize=False)\n",
    "                plot = False\n",
    "            break\n",
    "    return \n",
    "\n",
    "# test_plot(classifier, inversion, device, plot2_loader, epoch, 'comparison', biterror, gaussian_level, laplacian_level)\n"
   ]
  },
  {
   "cell_type": "code",
   "execution_count": 54,
   "metadata": {},
   "outputs": [],
   "source": [
    "classifier.module.fc[0].weight.data = copy.deepcopy(ww1)\n",
    "classifier.module.fc[0].bias.data[:] = copy.deepcopy(bb1)\n",
    "classifier.module.fc[2].weight.data = copy.deepcopy(ww2)\n",
    "classifier.module.fc[2].bias.data[:] = copy.deepcopy(bb2)\n",
    "# classifier_test(classifier, device, test2_loader)"
   ]
  },
  {
   "cell_type": "code",
   "execution_count": 55,
   "metadata": {},
   "outputs": [],
   "source": [
    "# # Train inversion model\n",
    "# best_recon_loss = 999\n",
    "# for epoch in range(1, args.epochs + 1):\n",
    "#     train(classifier, inversion, args.log_interval, device, train_loader, optimizer, epoch)\n",
    "#     recon_loss = test(classifier, inversion, device, test1_loader, epoch, 'test1')\n",
    "#     test(classifier, inversion, device, test2_loader, epoch, 'test2')\n",
    "\n",
    "#     if recon_loss < best_recon_loss:\n",
    "#         best_recon_loss = recon_loss\n",
    "#         state = {\n",
    "#             'epoch': epoch,\n",
    "#             'model': inversion.state_dict(),\n",
    "#             'optimizer': optimizer.state_dict(),\n",
    "#             'best_recon_loss': best_recon_loss\n",
    "#         }\n",
    "#         torch.save(state, 'out/inversion.pth')\n",
    "#         shutil.copyfile('out/recon_test1_{}.png'.format(epoch), 'out/best_test1.png')\n",
    "#         shutil.copyfile('out/recon_test2_{}.png'.format(epoch), 'out/best_test2.png')"
   ]
  },
  {
   "cell_type": "code",
   "execution_count": 56,
   "metadata": {},
   "outputs": [],
   "source": [
    "# args = parser.parse_args(['--num_workers', '0'])\n",
    "# print(\"================================\")\n",
    "# print(args)\n",
    "# print(\"================================\")\n",
    "\n",
    "# os.makedirs('out', exist_ok=True)\n",
    "\n",
    "# use_cuda = not args.no_cuda and torch.cuda.is_available()\n",
    "# device = torch.device(\"cuda\" if use_cuda else \"cpu\")\n",
    "# kwargs = {'num_workers': args.num_workers, 'pin_memory': True} if use_cuda else {}\n",
    "\n",
    "# torch.manual_seed(args.seed)\n",
    "\n",
    "\n",
    "# celeba_transform = transforms.Compose([\n",
    "#         transforms.Grayscale(),\n",
    "#         transforms.ToTensor()\n",
    "#     ])\n",
    "\n",
    "# train_set = CelebA('.\\\\data\\\\celeba_64', transform=celeba_transform)\n",
    "\n",
    "\n",
    "# train_loader = torch.utils.data.DataLoader(train_set, batch_size=args.batch_size, shuffle=True, **kwargs)\n",
    "\n",
    "# for i_batch, sample_batched in enumerate(train_loader):\n",
    "#     print(i_batch)\n",
    "#     print(sample_batched[0].shape,sample_batched[1].shape)\n",
    "    \n",
    "# #     batch_size = sample_batched[0].size(0)\n",
    "# #     im_size = sample_batched[0].size(2)\n",
    "# #     grid_border_size = 2\n",
    "\n",
    "#     grid = utils.make_grid(sample_batched[0])\n",
    "#     plt.imshow(grid.numpy().transpose((1, 2, 0)))\n",
    "#     break"
   ]
  }
 ],
 "metadata": {
  "environment": {
   "kernel": "python3",
   "name": "pytorch-gpu.1-11.m91",
   "type": "gcloud",
   "uri": "gcr.io/deeplearning-platform-release/pytorch-gpu.1-11:m91"
  },
  "kernelspec": {
   "display_name": "Python 3",
   "language": "python",
   "name": "python3"
  },
  "language_info": {
   "codemirror_mode": {
    "name": "ipython",
    "version": 3
   },
   "file_extension": ".py",
   "mimetype": "text/x-python",
   "name": "python",
   "nbconvert_exporter": "python",
   "pygments_lexer": "ipython3",
   "version": "3.7.12"
  }
 },
 "nbformat": 4,
 "nbformat_minor": 4
}
